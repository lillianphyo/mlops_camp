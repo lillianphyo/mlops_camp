{
 "cells": [
  {
   "cell_type": "markdown",
   "metadata": {
    "id": "-JrenrSGmAeg"
   },
   "source": [
    "**HOMEWORK**  \n",
    "\n",
    "The goal of this homework is to create a regression model for predicting housing prices (column 'median_house_value').  \n",
    "\n",
    "In this homework we'll again use the California Housing Prices dataset - the same one we used in homework 2 and 3.\n",
    "\n",
    "You can take it from [Kaggle](https://www.kaggle.com/datasets/camnugent/california-housing-prices) or download using wget link mentioned below:\n",
    "\n",
    "```\n",
    "wget https://raw.githubusercontent.com/alexeygrigorev/datasets/master/housing.csv\n",
    "\n",
    "```\n",
    "\n"
   ]
  },
  {
   "cell_type": "code",
   "execution_count": 1,
   "metadata": {
    "id": "nLosiCNJUjDM"
   },
   "outputs": [],
   "source": [
    "#@ IMPORTING LIBRARIES AND DEPENDENCIES:\n",
    "import re\n",
    "import numpy as np\n",
    "import pandas as pd\n",
    "import seaborn as sns\n",
    "import xgboost as xgb\n",
    "import matplotlib.pyplot as plt\n",
    "from tqdm.auto import tqdm\n",
    "from sklearn.tree import DecisionTreeRegressor\n",
    "from sklearn.tree import export_text\n",
    "from sklearn.feature_extraction import DictVectorizer\n",
    "from sklearn.model_selection import train_test_split\n",
    "from sklearn.ensemble import RandomForestRegressor\n",
    "from sklearn.metrics import mean_squared_error\n",
    "\n",
    "%matplotlib inline"
   ]
  },
  {
   "cell_type": "code",
   "execution_count": 2,
   "metadata": {},
   "outputs": [
    {
     "name": "stdout",
     "output_type": "stream",
     "text": [
      "Requirement already satisfied: xgboost in /home/lillian/workme/me/mlops_camp/mlops_camp/lib/python3.10/site-packages (1.5.0)\n",
      "Requirement already satisfied: numpy in /home/lillian/workme/me/mlops_camp/mlops_camp/lib/python3.10/site-packages (from xgboost) (1.23.3)\n",
      "Requirement already satisfied: scipy in /home/lillian/workme/me/mlops_camp/mlops_camp/lib/python3.10/site-packages (from xgboost) (1.9.2)\n",
      "Requirement already satisfied: tqdm in /home/lillian/workme/me/mlops_camp/mlops_camp/lib/python3.10/site-packages (4.64.1)\n"
     ]
    }
   ],
   "source": [
    "!pip install xgboost && pip install tqdm "
   ]
  },
  {
   "cell_type": "code",
   "execution_count": 3,
   "metadata": {
    "id": "4Psk224nnyIF"
   },
   "outputs": [
    {
     "name": "stdout",
     "output_type": "stream",
     "text": [
      "--2022-10-17 02:56:35--  https://raw.githubusercontent.com/alexeygrigorev/datasets/master/housing.csv\n",
      "Resolving raw.githubusercontent.com (raw.githubusercontent.com)... 185.199.110.133, 185.199.108.133, 185.199.109.133, ...\n",
      "Connecting to raw.githubusercontent.com (raw.githubusercontent.com)|185.199.110.133|:443... connected.\n",
      "HTTP request sent, awaiting response... 200 OK\n",
      "Length: 1423529 (1.4M) [text/plain]\n",
      "Saving to: ‘housing.csv’\n",
      "\n",
      "housing.csv         100%[===================>]   1.36M   277KB/s    in 6.6s    \n",
      "\n",
      "2022-10-17 02:56:44 (210 KB/s) - ‘housing.csv’ saved [1423529/1423529]\n",
      "\n"
     ]
    }
   ],
   "source": [
    "#@ DOWNLOADING THE DATASET: UNCOMMENT BELOW:\n",
    "!wget https://raw.githubusercontent.com/alexeygrigorev/datasets/master/housing.csv"
   ]
  },
  {
   "cell_type": "code",
   "execution_count": 2,
   "metadata": {
    "id": "492Hn6-3n08G"
   },
   "outputs": [
    {
     "data": {
      "text/plain": [
       "longitude               0\n",
       "latitude                0\n",
       "housing_median_age      0\n",
       "total_rooms             0\n",
       "total_bedrooms        207\n",
       "population              0\n",
       "households              0\n",
       "median_income           0\n",
       "median_house_value      0\n",
       "ocean_proximity         0\n",
       "dtype: int64"
      ]
     },
     "execution_count": 2,
     "metadata": {},
     "output_type": "execute_result"
    }
   ],
   "source": [
    "#@ READING DATASET:\n",
    "PATH = \"./housing.csv\"\n",
    "select_cols = [\"longitude\", \"latitude\", \"housing_median_age\", \"total_rooms\", \"total_bedrooms\", \"population\", \"households\", \n",
    "               \"median_income\", \"median_house_value\", \"ocean_proximity\"]\n",
    "df = pd.read_csv(PATH, usecols=select_cols)\n",
    "df.isnull().sum()"
   ]
  },
  {
   "cell_type": "code",
   "execution_count": 3,
   "metadata": {},
   "outputs": [
    {
     "data": {
      "text/html": [
       "<div>\n",
       "<style scoped>\n",
       "    .dataframe tbody tr th:only-of-type {\n",
       "        vertical-align: middle;\n",
       "    }\n",
       "\n",
       "    .dataframe tbody tr th {\n",
       "        vertical-align: top;\n",
       "    }\n",
       "\n",
       "    .dataframe thead th {\n",
       "        text-align: right;\n",
       "    }\n",
       "</style>\n",
       "<table border=\"1\" class=\"dataframe\">\n",
       "  <thead>\n",
       "    <tr style=\"text-align: right;\">\n",
       "      <th></th>\n",
       "      <th>longitude</th>\n",
       "      <th>latitude</th>\n",
       "      <th>housing_median_age</th>\n",
       "      <th>total_rooms</th>\n",
       "      <th>total_bedrooms</th>\n",
       "      <th>population</th>\n",
       "      <th>households</th>\n",
       "      <th>median_income</th>\n",
       "      <th>median_house_value</th>\n",
       "      <th>ocean_proximity</th>\n",
       "    </tr>\n",
       "  </thead>\n",
       "  <tbody>\n",
       "    <tr>\n",
       "      <th>0</th>\n",
       "      <td>-122.23</td>\n",
       "      <td>37.88</td>\n",
       "      <td>41.0</td>\n",
       "      <td>880.0</td>\n",
       "      <td>129.0</td>\n",
       "      <td>322.0</td>\n",
       "      <td>126.0</td>\n",
       "      <td>8.3252</td>\n",
       "      <td>452600.0</td>\n",
       "      <td>NEAR BAY</td>\n",
       "    </tr>\n",
       "    <tr>\n",
       "      <th>1</th>\n",
       "      <td>-122.22</td>\n",
       "      <td>37.86</td>\n",
       "      <td>21.0</td>\n",
       "      <td>7099.0</td>\n",
       "      <td>1106.0</td>\n",
       "      <td>2401.0</td>\n",
       "      <td>1138.0</td>\n",
       "      <td>8.3014</td>\n",
       "      <td>358500.0</td>\n",
       "      <td>NEAR BAY</td>\n",
       "    </tr>\n",
       "    <tr>\n",
       "      <th>2</th>\n",
       "      <td>-122.24</td>\n",
       "      <td>37.85</td>\n",
       "      <td>52.0</td>\n",
       "      <td>1467.0</td>\n",
       "      <td>190.0</td>\n",
       "      <td>496.0</td>\n",
       "      <td>177.0</td>\n",
       "      <td>7.2574</td>\n",
       "      <td>352100.0</td>\n",
       "      <td>NEAR BAY</td>\n",
       "    </tr>\n",
       "    <tr>\n",
       "      <th>3</th>\n",
       "      <td>-122.25</td>\n",
       "      <td>37.85</td>\n",
       "      <td>52.0</td>\n",
       "      <td>1274.0</td>\n",
       "      <td>235.0</td>\n",
       "      <td>558.0</td>\n",
       "      <td>219.0</td>\n",
       "      <td>5.6431</td>\n",
       "      <td>341300.0</td>\n",
       "      <td>NEAR BAY</td>\n",
       "    </tr>\n",
       "    <tr>\n",
       "      <th>4</th>\n",
       "      <td>-122.25</td>\n",
       "      <td>37.85</td>\n",
       "      <td>52.0</td>\n",
       "      <td>1627.0</td>\n",
       "      <td>280.0</td>\n",
       "      <td>565.0</td>\n",
       "      <td>259.0</td>\n",
       "      <td>3.8462</td>\n",
       "      <td>342200.0</td>\n",
       "      <td>NEAR BAY</td>\n",
       "    </tr>\n",
       "    <tr>\n",
       "      <th>5</th>\n",
       "      <td>-122.25</td>\n",
       "      <td>37.85</td>\n",
       "      <td>52.0</td>\n",
       "      <td>919.0</td>\n",
       "      <td>213.0</td>\n",
       "      <td>413.0</td>\n",
       "      <td>193.0</td>\n",
       "      <td>4.0368</td>\n",
       "      <td>269700.0</td>\n",
       "      <td>NEAR BAY</td>\n",
       "    </tr>\n",
       "    <tr>\n",
       "      <th>6</th>\n",
       "      <td>-122.25</td>\n",
       "      <td>37.84</td>\n",
       "      <td>52.0</td>\n",
       "      <td>2535.0</td>\n",
       "      <td>489.0</td>\n",
       "      <td>1094.0</td>\n",
       "      <td>514.0</td>\n",
       "      <td>3.6591</td>\n",
       "      <td>299200.0</td>\n",
       "      <td>NEAR BAY</td>\n",
       "    </tr>\n",
       "    <tr>\n",
       "      <th>7</th>\n",
       "      <td>-122.25</td>\n",
       "      <td>37.84</td>\n",
       "      <td>52.0</td>\n",
       "      <td>3104.0</td>\n",
       "      <td>687.0</td>\n",
       "      <td>1157.0</td>\n",
       "      <td>647.0</td>\n",
       "      <td>3.1200</td>\n",
       "      <td>241400.0</td>\n",
       "      <td>NEAR BAY</td>\n",
       "    </tr>\n",
       "    <tr>\n",
       "      <th>8</th>\n",
       "      <td>-122.26</td>\n",
       "      <td>37.84</td>\n",
       "      <td>42.0</td>\n",
       "      <td>2555.0</td>\n",
       "      <td>665.0</td>\n",
       "      <td>1206.0</td>\n",
       "      <td>595.0</td>\n",
       "      <td>2.0804</td>\n",
       "      <td>226700.0</td>\n",
       "      <td>NEAR BAY</td>\n",
       "    </tr>\n",
       "    <tr>\n",
       "      <th>9</th>\n",
       "      <td>-122.25</td>\n",
       "      <td>37.84</td>\n",
       "      <td>52.0</td>\n",
       "      <td>3549.0</td>\n",
       "      <td>707.0</td>\n",
       "      <td>1551.0</td>\n",
       "      <td>714.0</td>\n",
       "      <td>3.6912</td>\n",
       "      <td>261100.0</td>\n",
       "      <td>NEAR BAY</td>\n",
       "    </tr>\n",
       "  </tbody>\n",
       "</table>\n",
       "</div>"
      ],
      "text/plain": [
       "   longitude  latitude  housing_median_age  total_rooms  total_bedrooms  \\\n",
       "0    -122.23     37.88                41.0        880.0           129.0   \n",
       "1    -122.22     37.86                21.0       7099.0          1106.0   \n",
       "2    -122.24     37.85                52.0       1467.0           190.0   \n",
       "3    -122.25     37.85                52.0       1274.0           235.0   \n",
       "4    -122.25     37.85                52.0       1627.0           280.0   \n",
       "5    -122.25     37.85                52.0        919.0           213.0   \n",
       "6    -122.25     37.84                52.0       2535.0           489.0   \n",
       "7    -122.25     37.84                52.0       3104.0           687.0   \n",
       "8    -122.26     37.84                42.0       2555.0           665.0   \n",
       "9    -122.25     37.84                52.0       3549.0           707.0   \n",
       "\n",
       "   population  households  median_income  median_house_value ocean_proximity  \n",
       "0       322.0       126.0         8.3252            452600.0        NEAR BAY  \n",
       "1      2401.0      1138.0         8.3014            358500.0        NEAR BAY  \n",
       "2       496.0       177.0         7.2574            352100.0        NEAR BAY  \n",
       "3       558.0       219.0         5.6431            341300.0        NEAR BAY  \n",
       "4       565.0       259.0         3.8462            342200.0        NEAR BAY  \n",
       "5       413.0       193.0         4.0368            269700.0        NEAR BAY  \n",
       "6      1094.0       514.0         3.6591            299200.0        NEAR BAY  \n",
       "7      1157.0       647.0         3.1200            241400.0        NEAR BAY  \n",
       "8      1206.0       595.0         2.0804            226700.0        NEAR BAY  \n",
       "9      1551.0       714.0         3.6912            261100.0        NEAR BAY  "
      ]
     },
     "execution_count": 3,
     "metadata": {},
     "output_type": "execute_result"
    }
   ],
   "source": [
    "df.total_bedrooms = df.total_bedrooms.fillna(0)\n",
    "df.head(10)"
   ]
  },
  {
   "cell_type": "code",
   "execution_count": 4,
   "metadata": {},
   "outputs": [
    {
     "name": "stdout",
     "output_type": "stream",
     "text": [
      "<class 'pandas.core.frame.DataFrame'>\n",
      "RangeIndex: 20640 entries, 0 to 20639\n",
      "Data columns (total 10 columns):\n",
      " #   Column              Non-Null Count  Dtype  \n",
      "---  ------              --------------  -----  \n",
      " 0   longitude           20640 non-null  float64\n",
      " 1   latitude            20640 non-null  float64\n",
      " 2   housing_median_age  20640 non-null  float64\n",
      " 3   total_rooms         20640 non-null  float64\n",
      " 4   total_bedrooms      20640 non-null  float64\n",
      " 5   population          20640 non-null  float64\n",
      " 6   households          20640 non-null  float64\n",
      " 7   median_income       20640 non-null  float64\n",
      " 8   median_house_value  20640 non-null  float64\n",
      " 9   ocean_proximity     20640 non-null  object \n",
      "dtypes: float64(9), object(1)\n",
      "memory usage: 1.6+ MB\n"
     ]
    }
   ],
   "source": [
    "df.info()"
   ]
  },
  {
   "cell_type": "code",
   "execution_count": 5,
   "metadata": {},
   "outputs": [
    {
     "data": {
      "text/plain": [
       "longitude             0\n",
       "latitude              0\n",
       "housing_median_age    0\n",
       "total_rooms           0\n",
       "total_bedrooms        0\n",
       "population            0\n",
       "households            0\n",
       "median_income         0\n",
       "median_house_value    0\n",
       "ocean_proximity       0\n",
       "dtype: int64"
      ]
     },
     "execution_count": 5,
     "metadata": {},
     "output_type": "execute_result"
    }
   ],
   "source": [
    "df.isnull().sum()"
   ]
  },
  {
   "cell_type": "markdown",
   "metadata": {},
   "source": [
    "- Apply the log transform to `median_house_value`. \n",
    "- Do train/validation/test split with 60%/20%/20% distribution.\n",
    "- Use the `train_test_split` function and set the `random_state parameter` to 1."
   ]
  },
  {
   "cell_type": "code",
   "execution_count": 6,
   "metadata": {},
   "outputs": [
    {
     "data": {
      "text/plain": [
       "count    20640.000000\n",
       "mean       532.476211\n",
       "std        422.678333\n",
       "min          0.000000\n",
       "25%        292.000000\n",
       "50%        431.000000\n",
       "75%        643.250000\n",
       "max       6445.000000\n",
       "Name: total_bedrooms, dtype: float64"
      ]
     },
     "execution_count": 6,
     "metadata": {},
     "output_type": "execute_result"
    }
   ],
   "source": [
    "total_bedrooms_median = df.total_bedrooms.median()\n",
    "df.total_bedrooms = df.total_bedrooms.fillna(total_bedrooms_median)\n",
    "df.total_bedrooms.describe()"
   ]
  },
  {
   "cell_type": "code",
   "execution_count": 7,
   "metadata": {},
   "outputs": [],
   "source": [
    "#@ SPLITTING THE DATASET FOR TRAINING AND TEST:\n",
    "from sklearn.model_selection import train_test_split\n",
    "df_full_train, df_test = train_test_split(df, test_size=0.2, random_state=1)\n",
    "df_train, df_val = train_test_split(df_full_train, test_size=0.25, random_state=1)"
   ]
  },
  {
   "cell_type": "code",
   "execution_count": 8,
   "metadata": {},
   "outputs": [],
   "source": [
    "y_full_train = np.log1p(df_full_train.median_house_value.values)\n",
    "y_train = np.log1p(df_train.median_house_value.values)\n",
    "y_val = np.log1p(df_val.median_house_value.values)\n",
    "y_test = np.log1p(df_test.median_house_value.values)"
   ]
  },
  {
   "cell_type": "code",
   "execution_count": 9,
   "metadata": {},
   "outputs": [],
   "source": [
    "del df_train['median_house_value']\n",
    "del df_val['median_house_value']\n",
    "del df_test['median_house_value']"
   ]
  },
  {
   "cell_type": "markdown",
   "metadata": {
    "id": "5VKq8FX7qIVM"
   },
   "source": [
    "- We will use `DictVectorizer` to turn train and validation into matrices."
   ]
  },
  {
   "cell_type": "code",
   "execution_count": 10,
   "metadata": {
    "id": "W1MmdcRDpHS1"
   },
   "outputs": [],
   "source": [
    "#@ IMPLEMENTATION OF DICTVECTORIZER:\n",
    "dv = DictVectorizer(sparse=False)\n",
    "train_dicts = df_train.to_dict(orient='records')\n",
    "X_train = dv.fit_transform(train_dicts)\n",
    "\n",
    "val_dicts = df_val.to_dict(orient='records')\n",
    "X_val = dv.transform(val_dicts)\n",
    "\n",
    "test_dicts = df_test.to_dict(orient='records')\n",
    "X_test = dv.transform(test_dicts)"
   ]
  },
  {
   "cell_type": "markdown",
   "metadata": {
    "id": "qvxmhaD5hmAK"
   },
   "source": [
    "**Question 1**\n",
    "\n",
    "Let's train a decision tree regressor to predict the `median_house_value` variable.\n",
    "\n",
    "Train a model with `max_depth=1`."
   ]
  },
  {
   "cell_type": "code",
   "execution_count": 11,
   "metadata": {
    "id": "cqBcSbpIq7kJ"
   },
   "outputs": [
    {
     "data": {
      "text/plain": [
       "DecisionTreeRegressor(max_depth=1)"
      ]
     },
     "execution_count": 11,
     "metadata": {},
     "output_type": "execute_result"
    }
   ],
   "source": [
    "#@ TRAINING THE REGRESSION MODEL:\n",
    "dt = DecisionTreeRegressor(max_depth=1)\n",
    "dt.fit(X_train, y_train)"
   ]
  },
  {
   "cell_type": "code",
   "execution_count": 12,
   "metadata": {
    "id": "sLAnqRwuikqQ"
   },
   "outputs": [
    {
     "name": "stdout",
     "output_type": "stream",
     "text": [
      "|--- ocean_proximity=INLAND <= 0.50\n",
      "|   |--- value: [12.31]\n",
      "|--- ocean_proximity=INLAND >  0.50\n",
      "|   |--- value: [11.61]\n",
      "\n"
     ]
    },
    {
     "name": "stderr",
     "output_type": "stream",
     "text": [
      "/home/lillian/workme/me/mlops_camp/mlops_camp/lib/python3.10/site-packages/sklearn/utils/deprecation.py:87: FutureWarning: Function get_feature_names is deprecated; get_feature_names is deprecated in 1.0 and will be removed in 1.2. Please use get_feature_names_out instead.\n",
      "  warnings.warn(msg, category=FutureWarning)\n"
     ]
    }
   ],
   "source": [
    "#@ INSPECTION:\n",
    "print(export_text(dt, feature_names = dv.get_feature_names()))"
   ]
  },
  {
   "cell_type": "markdown",
   "metadata": {
    "id": "JNBm-qeRp6aZ"
   },
   "source": [
    "- Which feature is used for splitting the data?\n",
    "\n",
    "- Answer: ocean_proximity=INLAND"
   ]
  },
  {
   "cell_type": "markdown",
   "metadata": {
    "id": "Xhnbdy-CqQoB"
   },
   "source": [
    "**Question 2**\n",
    "\n",
    "Train a random forest model with these parameters:\n",
    "\n",
    "- `n_estimators=10`  \n",
    "- `random_state=1`  \n",
    "- `n_jobs=-1` (optional-to make training faster)"
   ]
  },
  {
   "cell_type": "code",
   "execution_count": 13,
   "metadata": {
    "id": "2w-YSGYMisFt"
   },
   "outputs": [
    {
     "data": {
      "text/plain": [
       "array([12.70112608, 13.10869355, 11.20721472, ..., 12.74865454,\n",
       "       12.3279425 , 12.29711708])"
      ]
     },
     "execution_count": 13,
     "metadata": {},
     "output_type": "execute_result"
    }
   ],
   "source": [
    "#@ TRAINING RANDOM FOREST MODEL:\n",
    "rf = RandomForestRegressor(n_estimators = 10,\n",
    "                          random_state=1,\n",
    "                          n_jobs=-1)\n",
    "\n",
    "rf.fit(X_train, y_train)\n",
    "\n",
    "y_pred = rf.predict(X_val)\n",
    "\n",
    "y_pred\n"
   ]
  },
  {
   "cell_type": "code",
   "execution_count": 14,
   "metadata": {
    "id": "jCxUAO2Rq1Ps"
   },
   "outputs": [
    {
     "data": {
      "text/plain": [
       "0.246"
      ]
     },
     "execution_count": 14,
     "metadata": {},
     "output_type": "execute_result"
    }
   ],
   "source": [
    "#@ CALCULATING MEAN SQUARED ERROR:\n",
    "rmse = round(np.sqrt(mean_squared_error(y_val, y_pred)), 3)\n",
    "\n",
    "rmse"
   ]
  },
  {
   "cell_type": "markdown",
   "metadata": {
    "id": "jfcDllHxrTqu"
   },
   "source": [
    "- What's the RMSE of this model on validation?\n",
    "\n",
    "- Answer: 0.25"
   ]
  },
  {
   "cell_type": "markdown",
   "metadata": {
    "id": "Y7K69bFSrg_V"
   },
   "source": [
    "**Question 3**\n",
    "\n",
    "Now, let's experiment with the `n_estimators` parameter.\n",
    "\n",
    "- Try different values of this parameter from 10 to 200 with step 10.\n",
    "- Set `random_state` to 1.\n",
    "- Evaluate the model on the validation dataset."
   ]
  },
  {
   "cell_type": "code",
   "execution_count": 15,
   "metadata": {
    "id": "-oUFCQwOrQNN"
   },
   "outputs": [],
   "source": [
    "#@ TRAINING THE RANDOM FOREST MODEL:\n",
    "scores = []\n",
    "for n_estimators in np.arange(start=10, stop=200, step=10):\n",
    "    rf = RandomForestRegressor(n_estimators = n_estimators,\n",
    "                               random_state=1,\n",
    "                               n_jobs=-1)  \n",
    "    rf.fit(X_train, y_train)\n",
    "    y_pred = rf.predict(X_val)\n",
    "    rmse = round(np.sqrt(mean_squared_error(y_val, y_pred)), 3)\n",
    "    scores.append((n_estimators, rmse))"
   ]
  },
  {
   "cell_type": "code",
   "execution_count": 16,
   "metadata": {},
   "outputs": [
    {
     "data": {
      "text/html": [
       "<div>\n",
       "<style scoped>\n",
       "    .dataframe tbody tr th:only-of-type {\n",
       "        vertical-align: middle;\n",
       "    }\n",
       "\n",
       "    .dataframe tbody tr th {\n",
       "        vertical-align: top;\n",
       "    }\n",
       "\n",
       "    .dataframe thead th {\n",
       "        text-align: right;\n",
       "    }\n",
       "</style>\n",
       "<table border=\"1\" class=\"dataframe\">\n",
       "  <thead>\n",
       "    <tr style=\"text-align: right;\">\n",
       "      <th></th>\n",
       "      <th>n_estimators</th>\n",
       "      <th>rmse</th>\n",
       "    </tr>\n",
       "  </thead>\n",
       "  <tbody>\n",
       "    <tr>\n",
       "      <th>0</th>\n",
       "      <td>10</td>\n",
       "      <td>0.246</td>\n",
       "    </tr>\n",
       "    <tr>\n",
       "      <th>1</th>\n",
       "      <td>20</td>\n",
       "      <td>0.239</td>\n",
       "    </tr>\n",
       "    <tr>\n",
       "      <th>2</th>\n",
       "      <td>30</td>\n",
       "      <td>0.235</td>\n",
       "    </tr>\n",
       "    <tr>\n",
       "      <th>3</th>\n",
       "      <td>40</td>\n",
       "      <td>0.234</td>\n",
       "    </tr>\n",
       "    <tr>\n",
       "      <th>4</th>\n",
       "      <td>50</td>\n",
       "      <td>0.233</td>\n",
       "    </tr>\n",
       "    <tr>\n",
       "      <th>5</th>\n",
       "      <td>60</td>\n",
       "      <td>0.233</td>\n",
       "    </tr>\n",
       "    <tr>\n",
       "      <th>6</th>\n",
       "      <td>70</td>\n",
       "      <td>0.232</td>\n",
       "    </tr>\n",
       "    <tr>\n",
       "      <th>7</th>\n",
       "      <td>80</td>\n",
       "      <td>0.232</td>\n",
       "    </tr>\n",
       "    <tr>\n",
       "      <th>8</th>\n",
       "      <td>90</td>\n",
       "      <td>0.232</td>\n",
       "    </tr>\n",
       "    <tr>\n",
       "      <th>9</th>\n",
       "      <td>100</td>\n",
       "      <td>0.232</td>\n",
       "    </tr>\n",
       "    <tr>\n",
       "      <th>10</th>\n",
       "      <td>110</td>\n",
       "      <td>0.231</td>\n",
       "    </tr>\n",
       "    <tr>\n",
       "      <th>11</th>\n",
       "      <td>120</td>\n",
       "      <td>0.232</td>\n",
       "    </tr>\n",
       "    <tr>\n",
       "      <th>12</th>\n",
       "      <td>130</td>\n",
       "      <td>0.232</td>\n",
       "    </tr>\n",
       "    <tr>\n",
       "      <th>13</th>\n",
       "      <td>140</td>\n",
       "      <td>0.232</td>\n",
       "    </tr>\n",
       "    <tr>\n",
       "      <th>14</th>\n",
       "      <td>150</td>\n",
       "      <td>0.232</td>\n",
       "    </tr>\n",
       "    <tr>\n",
       "      <th>15</th>\n",
       "      <td>160</td>\n",
       "      <td>0.232</td>\n",
       "    </tr>\n",
       "    <tr>\n",
       "      <th>16</th>\n",
       "      <td>170</td>\n",
       "      <td>0.231</td>\n",
       "    </tr>\n",
       "    <tr>\n",
       "      <th>17</th>\n",
       "      <td>180</td>\n",
       "      <td>0.232</td>\n",
       "    </tr>\n",
       "    <tr>\n",
       "      <th>18</th>\n",
       "      <td>190</td>\n",
       "      <td>0.232</td>\n",
       "    </tr>\n",
       "  </tbody>\n",
       "</table>\n",
       "</div>"
      ],
      "text/plain": [
       "    n_estimators   rmse\n",
       "0             10  0.246\n",
       "1             20  0.239\n",
       "2             30  0.235\n",
       "3             40  0.234\n",
       "4             50  0.233\n",
       "5             60  0.233\n",
       "6             70  0.232\n",
       "7             80  0.232\n",
       "8             90  0.232\n",
       "9            100  0.232\n",
       "10           110  0.231\n",
       "11           120  0.232\n",
       "12           130  0.232\n",
       "13           140  0.232\n",
       "14           150  0.232\n",
       "15           160  0.232\n",
       "16           170  0.231\n",
       "17           180  0.232\n",
       "18           190  0.232"
      ]
     },
     "execution_count": 16,
     "metadata": {},
     "output_type": "execute_result"
    }
   ],
   "source": [
    "#@ INSPECTING THE RMSE SCORES:\n",
    "df_scores = pd.DataFrame(scores, columns=['n_estimators', 'rmse'])\n",
    "df_scores"
   ]
  },
  {
   "cell_type": "code",
   "execution_count": 17,
   "metadata": {},
   "outputs": [
    {
     "data": {
      "text/plain": [
       "[<matplotlib.lines.Line2D at 0x7f575d71ab30>]"
      ]
     },
     "execution_count": 17,
     "metadata": {},
     "output_type": "execute_result"
    },
    {
     "data": {
      "image/png": "[encoded data removed]",
      "text/plain": [
       "<Figure size 640x480 with 1 Axes>"
      ]
     },
     "metadata": {},
     "output_type": "display_data"
    }
   ],
   "source": [
    "plt.plot(df_scores.n_estimators, df_scores.rmse)"
   ]
  },
  {
   "cell_type": "markdown",
   "metadata": {
    "id": "NAXZcW3AuC-d"
   },
   "source": [
    "- After which value of `n_estimators` does RMSE stop improving?\n",
    "\n",
    "- Answer:  150"
   ]
  },
  {
   "cell_type": "markdown",
   "metadata": {
    "id": "CYhRv3kEvWjK"
   },
   "source": [
    "**Question 4**\n",
    "\n",
    "Let's select the best `max_depth`:\n",
    "\n",
    "- Try different values of `max_depth`: [10, 15, 20, 25].\n",
    "- For each of these values, try different values of n_estimators from 10 till 200 (with step 10).\n",
    "- Fix the random seed: `random_state=1`."
   ]
  },
  {
   "cell_type": "code",
   "execution_count": 18,
   "metadata": {
    "id": "fO9TackKvKcS"
   },
   "outputs": [],
   "source": [
    "#@ TRAINING THE MODEL WITH DEPTH:\n",
    "scores = []\n",
    "for max_depth in [10, 15, 20, 25]:\n",
    "    for n_estimators in np.arange(start=10, stop=200, step=10):\n",
    "        rf = RandomForestRegressor(n_estimators = n_estimators,\n",
    "                                   max_depth = max_depth,\n",
    "                                   random_state=1,\n",
    "                                   n_jobs=-1)  \n",
    "        rf.fit(X_train, y_train)\n",
    "        y_pred = rf.predict(X_val)\n",
    "        rmse = round(np.sqrt(mean_squared_error(y_val, y_pred)), 3)\n",
    "        scores.append((max_depth, n_estimators, rmse))"
   ]
  },
  {
   "cell_type": "code",
   "execution_count": 19,
   "metadata": {},
   "outputs": [
    {
     "data": {
      "text/html": [
       "<div>\n",
       "<style scoped>\n",
       "    .dataframe tbody tr th:only-of-type {\n",
       "        vertical-align: middle;\n",
       "    }\n",
       "\n",
       "    .dataframe tbody tr th {\n",
       "        vertical-align: top;\n",
       "    }\n",
       "\n",
       "    .dataframe thead th {\n",
       "        text-align: right;\n",
       "    }\n",
       "</style>\n",
       "<table border=\"1\" class=\"dataframe\">\n",
       "  <thead>\n",
       "    <tr style=\"text-align: right;\">\n",
       "      <th></th>\n",
       "      <th>max_depth</th>\n",
       "      <th>n_estimators</th>\n",
       "      <th>rmse</th>\n",
       "    </tr>\n",
       "  </thead>\n",
       "  <tbody>\n",
       "    <tr>\n",
       "      <th>0</th>\n",
       "      <td>10</td>\n",
       "      <td>10</td>\n",
       "      <td>0.255</td>\n",
       "    </tr>\n",
       "    <tr>\n",
       "      <th>1</th>\n",
       "      <td>10</td>\n",
       "      <td>20</td>\n",
       "      <td>0.253</td>\n",
       "    </tr>\n",
       "    <tr>\n",
       "      <th>2</th>\n",
       "      <td>10</td>\n",
       "      <td>30</td>\n",
       "      <td>0.251</td>\n",
       "    </tr>\n",
       "    <tr>\n",
       "      <th>3</th>\n",
       "      <td>10</td>\n",
       "      <td>40</td>\n",
       "      <td>0.251</td>\n",
       "    </tr>\n",
       "    <tr>\n",
       "      <th>4</th>\n",
       "      <td>10</td>\n",
       "      <td>50</td>\n",
       "      <td>0.250</td>\n",
       "    </tr>\n",
       "  </tbody>\n",
       "</table>\n",
       "</div>"
      ],
      "text/plain": [
       "   max_depth  n_estimators   rmse\n",
       "0         10            10  0.255\n",
       "1         10            20  0.253\n",
       "2         10            30  0.251\n",
       "3         10            40  0.251\n",
       "4         10            50  0.250"
      ]
     },
     "execution_count": 19,
     "metadata": {},
     "output_type": "execute_result"
    }
   ],
   "source": [
    "df_scores = pd.DataFrame(scores, columns=['max_depth', 'n_estimators', 'rmse'])\n",
    "df_scores.head()"
   ]
  },
  {
   "cell_type": "code",
   "execution_count": 20,
   "metadata": {},
   "outputs": [
    {
     "data": {
      "text/plain": [
       "<matplotlib.legend.Legend at 0x7f575d5d3670>"
      ]
     },
     "execution_count": 20,
     "metadata": {},
     "output_type": "execute_result"
    },
    {
     "data": {
      "image/png": "[encoded data removed]",
      "text/plain": [
       "<Figure size 640x480 with 1 Axes>"
      ]
     },
     "metadata": {},
     "output_type": "display_data"
    }
   ],
   "source": [
    "plt.figure()\n",
    "for max_depth in [10, 15, 20, 25]:\n",
    "    df_subset = df_scores[df_scores.max_depth == max_depth]\n",
    "    plt.plot(df_subset.n_estimators, df_subset.rmse, label='max_depth=%d' % max_depth)\n",
    "\n",
    "plt.legend()"
   ]
  },
  {
   "cell_type": "markdown",
   "metadata": {
    "id": "eCRCaKlSwp7D"
   },
   "source": [
    "- What's the best `max_depth`:\n",
    "\n",
    "- Answer: 25"
   ]
  },
  {
   "cell_type": "markdown",
   "metadata": {
    "id": "BDLbx3N5xAoY"
   },
   "source": [
    "**Question 5**\n",
    "\n",
    "We can extract feature importance information from tree-based models.\n",
    "\n",
    "At each step of the decision tree learning algorith, it finds the best split. When doint it, we can calculate \"gain\" - the reduction in impurity before and after the split. This gain is quite useful in understanding what are the imporatant features for tree-based models.\n",
    "\n",
    "In Scikit-Learn, tree-based models contain this information in the `feature_importances_` field.\n",
    "\n",
    "For this homework question, we'll find the most important feature:\n",
    "\n",
    "Train the model with these parametes:\n",
    "- `n_estimators=10`,\n",
    "- `max_depth=20`,\n",
    "- `random_state=1`,\n",
    "- `n_jobs=-1` (optional)\n",
    "\n",
    "Get the feature importance information from this model"
   ]
  },
  {
   "cell_type": "code",
   "execution_count": 21,
   "metadata": {
    "id": "UICqST2Qwhbj"
   },
   "outputs": [
    {
     "data": {
      "text/plain": [
       "RandomForestRegressor(max_depth=20, n_estimators=10, n_jobs=-1, random_state=1)"
      ]
     },
     "execution_count": 21,
     "metadata": {},
     "output_type": "execute_result"
    }
   ],
   "source": [
    "#@ TRAINING THE RANDOM FOREST MODEL:\n",
    "rf = RandomForestRegressor(n_estimators = 10,\n",
    "                           max_depth = 20,\n",
    "                           random_state=1,\n",
    "                           n_jobs=-1)  \n",
    "rf.fit(X_train, y_train)"
   ]
  },
  {
   "cell_type": "code",
   "execution_count": 22,
   "metadata": {},
   "outputs": [
    {
     "data": {
      "text/plain": [
       "array([1.63873827e-02, 3.31454580e-02, 1.01255849e-01, 9.64702137e-02,\n",
       "       3.63325843e-01, 2.48880276e-03, 3.10900842e-01, 3.56806263e-04,\n",
       "       4.80369796e-04, 4.69876693e-03, 3.07769212e-02, 1.91716318e-02,\n",
       "       2.05411131e-02])"
      ]
     },
     "execution_count": 22,
     "metadata": {},
     "output_type": "execute_result"
    }
   ],
   "source": [
    "rf.feature_importances_"
   ]
  },
  {
   "cell_type": "code",
   "execution_count": 23,
   "metadata": {},
   "outputs": [
    {
     "name": "stderr",
     "output_type": "stream",
     "text": [
      "/home/lillian/workme/me/mlops_camp/mlops_camp/lib/python3.10/site-packages/sklearn/utils/deprecation.py:87: FutureWarning: Function get_feature_names is deprecated; get_feature_names is deprecated in 1.0 and will be removed in 1.2. Please use get_feature_names_out instead.\n",
      "  warnings.warn(msg, category=FutureWarning)\n"
     ]
    },
    {
     "data": {
      "text/plain": [
       "<BarContainer object of 13 artists>"
      ]
     },
     "execution_count": 23,
     "metadata": {},
     "output_type": "execute_result"
    },
    {
     "data": {
      "image/png": "[encoded data removed]",
      "text/plain": [
       "<Figure size 640x480 with 1 Axes>"
      ]
     },
     "metadata": {},
     "output_type": "display_data"
    }
   ],
   "source": [
    "sorted_idx = rf.feature_importances_.argsort()\n",
    "plt.barh(dv.get_feature_names(), rf.feature_importances_[sorted_idx])"
   ]
  },
  {
   "cell_type": "markdown",
   "metadata": {
    "id": "kSCqlx9jye1s"
   },
   "source": [
    "- What's the most important feature?\n",
    "\n",
    "- Answer: total_rooms"
   ]
  },
  {
   "cell_type": "markdown",
   "metadata": {
    "id": "K5KEdiTMzPaI"
   },
   "source": [
    "**Question 6**\n",
    "\n",
    "Now let's train an XGBoost model! For this question, we'll tune the eta parameter:\n",
    "\n",
    "- Install XGBoost.\n",
    "- Create DMatrix for train and validation\n",
    "- Create a watchlist\n",
    "- Train a model with these parameters for 100 rounds:\n",
    "\n",
    "```\n",
    "xgb_params = {  \n",
    "    'eta': 0.3,  \n",
    "    'max_depth': 6,  \n",
    "    'min_child_weight': 1,  \n",
    "\n",
    "    'objective': 'reg:squarederror',\n",
    "    'nthread': 8,\n",
    "\n",
    "    'seed': 1,\n",
    "    'verbosity': 1,\n",
    "}\n",
    "```\n",
    "\n"
   ]
  },
  {
   "cell_type": "code",
   "execution_count": 86,
   "metadata": {},
   "outputs": [],
   "source": [
    "#@ CREATING THE DMARTIX:\n",
    "features = dv.feature_names_\n",
    "\n",
    "regex = re.compile(r\"<\", re.IGNORECASE)\n",
    "features = [regex.sub(\"_\", col) if any(x in str(col) for x in set(('[', ']', '<'))) else col for col in features]\n",
    "\n",
    "dtrain = xgb.DMatrix(X_train, label= y_train , feature_names=features)\n",
    "dval = xgb.DMatrix(X_val, label=y_val, feature_names=features)"
   ]
  },
  {
   "cell_type": "code",
   "execution_count": 87,
   "metadata": {
    "id": "lRRzLznP-Z-Q"
   },
   "outputs": [
    {
     "name": "stdout",
     "output_type": "stream",
     "text": [
      "[0]\tval-rmse:10.44938\n",
      "[1]\tval-rmse:9.40684\n",
      "[2]\tval-rmse:8.46831\n",
      "[3]\tval-rmse:7.62391\n",
      "[4]\tval-rmse:6.86368\n",
      "[5]\tval-rmse:6.17987\n",
      "[6]\tval-rmse:5.56437\n",
      "[7]\tval-rmse:5.01061\n",
      "[8]\tval-rmse:4.51264\n",
      "[9]\tval-rmse:4.06461\n",
      "[10]\tval-rmse:3.66135\n",
      "[11]\tval-rmse:3.29877\n",
      "[12]\tval-rmse:2.97284\n",
      "[13]\tval-rmse:2.67979\n",
      "[14]\tval-rmse:2.41587\n",
      "[15]\tval-rmse:2.17928\n",
      "[16]\tval-rmse:1.96662\n",
      "[17]\tval-rmse:1.77536\n",
      "[18]\tval-rmse:1.60396\n",
      "[19]\tval-rmse:1.44910\n",
      "[20]\tval-rmse:1.31054\n",
      "[21]\tval-rmse:1.18646\n",
      "[22]\tval-rmse:1.07469\n",
      "[23]\tval-rmse:0.97546\n",
      "[24]\tval-rmse:0.88576\n",
      "[25]\tval-rmse:0.80657\n",
      "[26]\tval-rmse:0.73566\n",
      "[27]\tval-rmse:0.67282\n",
      "[28]\tval-rmse:0.61618\n",
      "[29]\tval-rmse:0.56601\n",
      "[30]\tval-rmse:0.52189\n",
      "[31]\tval-rmse:0.48338\n",
      "[32]\tval-rmse:0.44960\n",
      "[33]\tval-rmse:0.41992\n",
      "[34]\tval-rmse:0.39439\n",
      "[35]\tval-rmse:0.37264\n",
      "[36]\tval-rmse:0.35398\n",
      "[37]\tval-rmse:0.33778\n",
      "[38]\tval-rmse:0.32340\n",
      "[39]\tval-rmse:0.31104\n",
      "[40]\tval-rmse:0.30053\n",
      "[41]\tval-rmse:0.29195\n",
      "[42]\tval-rmse:0.28468\n",
      "[43]\tval-rmse:0.27832\n",
      "[44]\tval-rmse:0.27269\n",
      "[45]\tval-rmse:0.26829\n",
      "[46]\tval-rmse:0.26437\n",
      "[47]\tval-rmse:0.26091\n",
      "[48]\tval-rmse:0.25803\n",
      "[49]\tval-rmse:0.25521\n",
      "[50]\tval-rmse:0.25334\n",
      "[51]\tval-rmse:0.25115\n",
      "[52]\tval-rmse:0.24976\n",
      "[53]\tval-rmse:0.24876\n",
      "[54]\tval-rmse:0.24751\n",
      "[55]\tval-rmse:0.24657\n",
      "[56]\tval-rmse:0.24560\n",
      "[57]\tval-rmse:0.24480\n",
      "[58]\tval-rmse:0.24411\n",
      "[59]\tval-rmse:0.24341\n",
      "[60]\tval-rmse:0.24189\n",
      "[61]\tval-rmse:0.24115\n",
      "[62]\tval-rmse:0.24089\n",
      "[63]\tval-rmse:0.24046\n",
      "[64]\tval-rmse:0.24036\n",
      "[65]\tval-rmse:0.23943\n",
      "[66]\tval-rmse:0.23908\n",
      "[67]\tval-rmse:0.23836\n",
      "[68]\tval-rmse:0.23798\n",
      "[69]\tval-rmse:0.23725\n",
      "[70]\tval-rmse:0.23684\n",
      "[71]\tval-rmse:0.23649\n",
      "[72]\tval-rmse:0.23587\n",
      "[73]\tval-rmse:0.23550\n",
      "[74]\tval-rmse:0.23523\n",
      "[75]\tval-rmse:0.23507\n",
      "[76]\tval-rmse:0.23491\n",
      "[77]\tval-rmse:0.23446\n",
      "[78]\tval-rmse:0.23427\n",
      "[79]\tval-rmse:0.23423\n",
      "[80]\tval-rmse:0.23398\n",
      "[81]\tval-rmse:0.23392\n",
      "[82]\tval-rmse:0.23364\n",
      "[83]\tval-rmse:0.23330\n",
      "[84]\tval-rmse:0.23289\n",
      "[85]\tval-rmse:0.23275\n",
      "[86]\tval-rmse:0.23266\n",
      "[87]\tval-rmse:0.23230\n",
      "[88]\tval-rmse:0.23228\n",
      "[89]\tval-rmse:0.23220\n",
      "[90]\tval-rmse:0.23206\n",
      "[91]\tval-rmse:0.23167\n",
      "[92]\tval-rmse:0.23162\n",
      "[93]\tval-rmse:0.23117\n",
      "[94]\tval-rmse:0.23104\n",
      "[95]\tval-rmse:0.23106\n",
      "[96]\tval-rmse:0.23089\n",
      "[97]\tval-rmse:0.23067\n",
      "[98]\tval-rmse:0.23057\n",
      "[99]\tval-rmse:0.23054\n",
      "[0]\tval-rmse:8.13245\n",
      "[1]\tval-rmse:5.70070\n",
      "[2]\tval-rmse:4.00041\n",
      "[3]\tval-rmse:2.81079\n",
      "[4]\tval-rmse:1.98175\n",
      "[5]\tval-rmse:1.40741\n",
      "[6]\tval-rmse:1.00700\n",
      "[7]\tval-rmse:0.73439\n",
      "[8]\tval-rmse:0.55047\n",
      "[9]\tval-rmse:0.43233\n",
      "[10]\tval-rmse:0.35782\n",
      "[11]\tval-rmse:0.31360\n",
      "[12]\tval-rmse:0.28865\n",
      "[13]\tval-rmse:0.27334\n",
      "[14]\tval-rmse:0.26605\n",
      "[15]\tval-rmse:0.26044\n",
      "[16]\tval-rmse:0.25229\n",
      "[17]\tval-rmse:0.24902\n",
      "[18]\tval-rmse:0.24826\n",
      "[19]\tval-rmse:0.24696\n",
      "[20]\tval-rmse:0.24624\n",
      "[21]\tval-rmse:0.24334\n",
      "[22]\tval-rmse:0.24245\n",
      "[23]\tval-rmse:0.24269\n",
      "[24]\tval-rmse:0.24252\n",
      "[25]\tval-rmse:0.24099\n",
      "[26]\tval-rmse:0.24019\n",
      "[27]\tval-rmse:0.24010\n",
      "[28]\tval-rmse:0.23843\n",
      "[29]\tval-rmse:0.23766\n",
      "[30]\tval-rmse:0.23741\n",
      "[31]\tval-rmse:0.23709\n",
      "[32]\tval-rmse:0.23686\n",
      "[33]\tval-rmse:0.23653\n",
      "[34]\tval-rmse:0.23605\n",
      "[35]\tval-rmse:0.23562\n",
      "[36]\tval-rmse:0.23539\n",
      "[37]\tval-rmse:0.23506\n",
      "[38]\tval-rmse:0.23495\n",
      "[39]\tval-rmse:0.23425\n",
      "[40]\tval-rmse:0.23419\n",
      "[41]\tval-rmse:0.23400\n",
      "[42]\tval-rmse:0.23384\n",
      "[43]\tval-rmse:0.23343\n",
      "[44]\tval-rmse:0.23317\n",
      "[45]\tval-rmse:0.23279\n",
      "[46]\tval-rmse:0.23205\n",
      "[47]\tval-rmse:0.23171\n",
      "[48]\tval-rmse:0.23142\n",
      "[49]\tval-rmse:0.23124\n",
      "[50]\tval-rmse:0.23097\n",
      "[51]\tval-rmse:0.23106\n",
      "[52]\tval-rmse:0.23074\n",
      "[53]\tval-rmse:0.23072\n",
      "[54]\tval-rmse:0.23030\n",
      "[55]\tval-rmse:0.23039\n",
      "[56]\tval-rmse:0.23006\n",
      "[57]\tval-rmse:0.23002\n",
      "[58]\tval-rmse:0.22987\n",
      "[59]\tval-rmse:0.22980\n",
      "[60]\tval-rmse:0.22950\n",
      "[61]\tval-rmse:0.22952\n",
      "[62]\tval-rmse:0.22929\n",
      "[63]\tval-rmse:0.22882\n",
      "[64]\tval-rmse:0.22878\n",
      "[65]\tval-rmse:0.22857\n",
      "[66]\tval-rmse:0.22862\n",
      "[67]\tval-rmse:0.22827\n",
      "[68]\tval-rmse:0.22825\n",
      "[69]\tval-rmse:0.22788\n",
      "[70]\tval-rmse:0.22787\n",
      "[71]\tval-rmse:0.22774\n",
      "[72]\tval-rmse:0.22773\n",
      "[73]\tval-rmse:0.22782\n",
      "[74]\tval-rmse:0.22771\n",
      "[75]\tval-rmse:0.22755\n",
      "[76]\tval-rmse:0.22705\n",
      "[77]\tval-rmse:0.22675\n",
      "[78]\tval-rmse:0.22669\n",
      "[79]\tval-rmse:0.22634\n",
      "[80]\tval-rmse:0.22611\n",
      "[81]\tval-rmse:0.22602\n",
      "[82]\tval-rmse:0.22595\n",
      "[83]\tval-rmse:0.22589\n",
      "[84]\tval-rmse:0.22598\n",
      "[85]\tval-rmse:0.22579\n",
      "[86]\tval-rmse:0.22582\n",
      "[87]\tval-rmse:0.22647\n",
      "[88]\tval-rmse:0.22641\n",
      "[89]\tval-rmse:0.22647\n",
      "[90]\tval-rmse:0.22628\n",
      "[91]\tval-rmse:0.22610\n",
      "[92]\tval-rmse:0.22619\n",
      "[93]\tval-rmse:0.22648\n",
      "[94]\tval-rmse:0.22643\n",
      "Best RMSE: (0.3, 0.2263040575032991)\n"
     ]
    }
   ],
   "source": [
    "rmse_values = []\n",
    "for e in [0.1, 0.3]:\n",
    "    params = {\"max_depth\": 6, \"eta\": e, \"objective\": \"reg:squarederror\", \"min_child_weight\": 1, \"nthread\": 8, \"seed\": 1, \"verbosity\": 1}\n",
    "    num_rounds = 100\n",
    "    model = xgb.train(params, dtrain, num_rounds, evals=[(dval, \"val\")], early_stopping_rounds=10)\n",
    "    y_pred = model.predict(dval)\n",
    "    mse = mean_squared_error(y_val, y_pred)\n",
    "    rmse_values.append((e, np.sqrt(mse)))\n",
    "\n",
    "print(\"Best RMSE:\", min(rmse_values, key=lambda x: x[1]))"
   ]
  },
  {
   "cell_type": "code",
   "execution_count": 88,
   "metadata": {},
   "outputs": [
    {
     "name": "stdout",
     "output_type": "stream",
     "text": [
      "[0]\tval-rmse:10.44938\n",
      "[1]\tval-rmse:9.40684\n",
      "[2]\tval-rmse:8.46831\n",
      "[3]\tval-rmse:7.62391\n",
      "[4]\tval-rmse:6.86368\n",
      "[5]\tval-rmse:6.17987\n",
      "[6]\tval-rmse:5.56437\n",
      "[7]\tval-rmse:5.01061\n",
      "[8]\tval-rmse:4.51264\n",
      "[9]\tval-rmse:4.06461\n",
      "[10]\tval-rmse:3.66135\n",
      "[11]\tval-rmse:3.29877\n",
      "[12]\tval-rmse:2.97284\n",
      "[13]\tval-rmse:2.67979\n",
      "[14]\tval-rmse:2.41587\n",
      "[15]\tval-rmse:2.17928\n",
      "[16]\tval-rmse:1.96662\n",
      "[17]\tval-rmse:1.77536\n",
      "[18]\tval-rmse:1.60396\n",
      "[19]\tval-rmse:1.44910\n",
      "[20]\tval-rmse:1.31054\n",
      "[21]\tval-rmse:1.18646\n",
      "[22]\tval-rmse:1.07469\n",
      "[23]\tval-rmse:0.97546\n",
      "[24]\tval-rmse:0.88576\n",
      "[25]\tval-rmse:0.80657\n",
      "[26]\tval-rmse:0.73566\n",
      "[27]\tval-rmse:0.67282\n",
      "[28]\tval-rmse:0.61618\n",
      "[29]\tval-rmse:0.56601\n",
      "[30]\tval-rmse:0.52189\n",
      "[31]\tval-rmse:0.48338\n",
      "[32]\tval-rmse:0.44960\n",
      "[33]\tval-rmse:0.41992\n",
      "[34]\tval-rmse:0.39439\n",
      "[35]\tval-rmse:0.37264\n",
      "[36]\tval-rmse:0.35398\n",
      "[37]\tval-rmse:0.33778\n",
      "[38]\tval-rmse:0.32340\n",
      "[39]\tval-rmse:0.31104\n",
      "[40]\tval-rmse:0.30053\n",
      "[41]\tval-rmse:0.29195\n",
      "[42]\tval-rmse:0.28468\n",
      "[43]\tval-rmse:0.27832\n",
      "[44]\tval-rmse:0.27269\n",
      "[45]\tval-rmse:0.26829\n",
      "[46]\tval-rmse:0.26437\n",
      "[47]\tval-rmse:0.26091\n",
      "[48]\tval-rmse:0.25803\n",
      "[49]\tval-rmse:0.25521\n",
      "[50]\tval-rmse:0.25334\n",
      "[51]\tval-rmse:0.25115\n",
      "[52]\tval-rmse:0.24976\n",
      "[53]\tval-rmse:0.24876\n",
      "[54]\tval-rmse:0.24751\n",
      "[55]\tval-rmse:0.24657\n",
      "[56]\tval-rmse:0.24560\n",
      "[57]\tval-rmse:0.24480\n",
      "[58]\tval-rmse:0.24411\n",
      "[59]\tval-rmse:0.24341\n",
      "[60]\tval-rmse:0.24189\n",
      "[61]\tval-rmse:0.24115\n",
      "[62]\tval-rmse:0.24089\n",
      "[63]\tval-rmse:0.24046\n",
      "[64]\tval-rmse:0.24036\n",
      "[65]\tval-rmse:0.23943\n",
      "[66]\tval-rmse:0.23908\n",
      "[67]\tval-rmse:0.23836\n",
      "[68]\tval-rmse:0.23798\n",
      "[69]\tval-rmse:0.23725\n",
      "[70]\tval-rmse:0.23684\n",
      "[71]\tval-rmse:0.23649\n",
      "[72]\tval-rmse:0.23587\n",
      "[73]\tval-rmse:0.23550\n",
      "[74]\tval-rmse:0.23523\n",
      "[75]\tval-rmse:0.23507\n",
      "[76]\tval-rmse:0.23491\n",
      "[77]\tval-rmse:0.23446\n",
      "[78]\tval-rmse:0.23427\n",
      "[79]\tval-rmse:0.23423\n",
      "[80]\tval-rmse:0.23398\n",
      "[81]\tval-rmse:0.23392\n",
      "[82]\tval-rmse:0.23364\n",
      "[83]\tval-rmse:0.23330\n",
      "[84]\tval-rmse:0.23289\n",
      "[85]\tval-rmse:0.23275\n",
      "[86]\tval-rmse:0.23266\n",
      "[87]\tval-rmse:0.23230\n",
      "[88]\tval-rmse:0.23228\n",
      "[89]\tval-rmse:0.23220\n",
      "[90]\tval-rmse:0.23206\n",
      "[91]\tval-rmse:0.23167\n",
      "[92]\tval-rmse:0.23162\n",
      "[93]\tval-rmse:0.23117\n",
      "[94]\tval-rmse:0.23104\n",
      "[95]\tval-rmse:0.23106\n",
      "[96]\tval-rmse:0.23089\n",
      "[97]\tval-rmse:0.23067\n",
      "[98]\tval-rmse:0.23057\n",
      "[99]\tval-rmse:0.23054\n",
      "Best RMSE: 0.2305416021993131\n"
     ]
    }
   ],
   "source": [
    "rmse_values = []\n",
    "\n",
    "params = {\"max_depth\": 6, \"eta\": 0.1, \"objective\": \"reg:squarederror\", \"min_child_weight\": 1, \"nthread\": 8, \"seed\": 1, \"verbosity\": 1}\n",
    "num_rounds = 100\n",
    "model = xgb.train(params, dtrain, num_rounds, evals=[(dval, \"val\")], early_stopping_rounds=10)\n",
    "y_pred = model.predict(dval)\n",
    "mse = mean_squared_error(y_val, y_pred)\n",
    "rmse_values.append((np.sqrt(mse)))\n",
    "\n",
    "print(\"Best RMSE:\", min(rmse_values))"
   ]
  },
  {
   "cell_type": "code",
   "execution_count": 70,
   "metadata": {},
   "outputs": [
    {
     "data": {
      "text/plain": [
       "['households',\n",
       " 'housing_median_age',\n",
       " 'latitude',\n",
       " 'longitude',\n",
       " 'median_income',\n",
       " 'ocean_proximity_less_than_1H OCEAN',\n",
       " 'ocean_proximity_equals_INLAND',\n",
       " 'ocean_proximity_equals_ISLAND',\n",
       " 'ocean_proximity_equals_NEAR BAY',\n",
       " 'ocean_proximity_equals_NEAR OCEAN',\n",
       " 'population',\n",
       " 'total_bedrooms',\n",
       " 'total_rooms']"
      ]
     },
     "execution_count": 70,
     "metadata": {},
     "output_type": "execute_result"
    }
   ],
   "source": [
    "new_feature_names"
   ]
  },
  {
   "cell_type": "code",
   "execution_count": 89,
   "metadata": {},
   "outputs": [],
   "source": [
    "dtrain = xgb.DMatrix(X_train, label=y_train, feature_names = new_feature_names)\n",
    "dval = xgb.DMatrix(X_val, label=y_val, feature_names = new_feature_names)"
   ]
  },
  {
   "cell_type": "code",
   "execution_count": 90,
   "metadata": {},
   "outputs": [],
   "source": [
    "watchlist = [(dtrain, 'train'), (dval, 'val')]"
   ]
  },
  {
   "cell_type": "code",
   "execution_count": 91,
   "metadata": {},
   "outputs": [],
   "source": [
    "def parse_xgb_output(output):\n",
    "    results = []\n",
    "    for line in output.stdout.strip().split('\\n'):\n",
    "        num_iter, train_auc, val_auc = line.split('\\t')\n",
    "        num_iter = int(num_iter.strip('[]'))\n",
    "        train_auc = float(train_auc.split(':')[1])\n",
    "        val_auc = float(val_auc.split(':')[1])\n",
    "        results.append((num_iter, train_auc, val_auc))\n",
    "    return pd.DataFrame(results, columns=['num_iter', 'train_rmse', 'val_rmse'])"
   ]
  },
  {
   "cell_type": "code",
   "execution_count": 92,
   "metadata": {},
   "outputs": [],
   "source": [
    "scores={}"
   ]
  },
  {
   "cell_type": "code",
   "execution_count": 104,
   "metadata": {},
   "outputs": [],
   "source": [
    "%%capture output\n",
    "\n",
    "xgb_params = {\n",
    "    'eta': 0.1, \n",
    "    'max_depth': 6,\n",
    "    'min_child_weight': 1,\n",
    "    \n",
    "    'objective': 'reg:squarederror',\n",
    "    'nthread': 8,\n",
    "    'eval_metric': 'rmse',\n",
    "    \n",
    "    'seed': 1,\n",
    "    'verbosity': 1,\n",
    "}\n",
    "model = xgb.train(xgb_params, dtrain, num_boost_round=100, evals=watchlist)"
   ]
  },
  {
   "cell_type": "code",
   "execution_count": 105,
   "metadata": {},
   "outputs": [
    {
     "data": {
      "text/html": [
       "<div>\n",
       "<style scoped>\n",
       "    .dataframe tbody tr th:only-of-type {\n",
       "        vertical-align: middle;\n",
       "    }\n",
       "\n",
       "    .dataframe tbody tr th {\n",
       "        vertical-align: top;\n",
       "    }\n",
       "\n",
       "    .dataframe thead th {\n",
       "        text-align: right;\n",
       "    }\n",
       "</style>\n",
       "<table border=\"1\" class=\"dataframe\">\n",
       "  <thead>\n",
       "    <tr style=\"text-align: right;\">\n",
       "      <th></th>\n",
       "      <th>num_iter</th>\n",
       "      <th>train_rmse</th>\n",
       "      <th>val_rmse</th>\n",
       "    </tr>\n",
       "  </thead>\n",
       "  <tbody>\n",
       "    <tr>\n",
       "      <th>0</th>\n",
       "      <td>0</td>\n",
       "      <td>10.44372</td>\n",
       "      <td>10.44938</td>\n",
       "    </tr>\n",
       "    <tr>\n",
       "      <th>1</th>\n",
       "      <td>1</td>\n",
       "      <td>9.40118</td>\n",
       "      <td>9.40684</td>\n",
       "    </tr>\n",
       "    <tr>\n",
       "      <th>2</th>\n",
       "      <td>2</td>\n",
       "      <td>8.46290</td>\n",
       "      <td>8.46831</td>\n",
       "    </tr>\n",
       "    <tr>\n",
       "      <th>3</th>\n",
       "      <td>3</td>\n",
       "      <td>7.61859</td>\n",
       "      <td>7.62391</td>\n",
       "    </tr>\n",
       "    <tr>\n",
       "      <th>4</th>\n",
       "      <td>4</td>\n",
       "      <td>6.85878</td>\n",
       "      <td>6.86368</td>\n",
       "    </tr>\n",
       "    <tr>\n",
       "      <th>...</th>\n",
       "      <td>...</td>\n",
       "      <td>...</td>\n",
       "      <td>...</td>\n",
       "    </tr>\n",
       "    <tr>\n",
       "      <th>95</th>\n",
       "      <td>95</td>\n",
       "      <td>0.18541</td>\n",
       "      <td>0.23106</td>\n",
       "    </tr>\n",
       "    <tr>\n",
       "      <th>96</th>\n",
       "      <td>96</td>\n",
       "      <td>0.18470</td>\n",
       "      <td>0.23089</td>\n",
       "    </tr>\n",
       "    <tr>\n",
       "      <th>97</th>\n",
       "      <td>97</td>\n",
       "      <td>0.18405</td>\n",
       "      <td>0.23067</td>\n",
       "    </tr>\n",
       "    <tr>\n",
       "      <th>98</th>\n",
       "      <td>98</td>\n",
       "      <td>0.18385</td>\n",
       "      <td>0.23057</td>\n",
       "    </tr>\n",
       "    <tr>\n",
       "      <th>99</th>\n",
       "      <td>99</td>\n",
       "      <td>0.18329</td>\n",
       "      <td>0.23054</td>\n",
       "    </tr>\n",
       "  </tbody>\n",
       "</table>\n",
       "<p>100 rows × 3 columns</p>\n",
       "</div>"
      ],
      "text/plain": [
       "    num_iter  train_rmse  val_rmse\n",
       "0          0    10.44372  10.44938\n",
       "1          1     9.40118   9.40684\n",
       "2          2     8.46290   8.46831\n",
       "3          3     7.61859   7.62391\n",
       "4          4     6.85878   6.86368\n",
       "..       ...         ...       ...\n",
       "95        95     0.18541   0.23106\n",
       "96        96     0.18470   0.23089\n",
       "97        97     0.18405   0.23067\n",
       "98        98     0.18385   0.23057\n",
       "99        99     0.18329   0.23054\n",
       "\n",
       "[100 rows x 3 columns]"
      ]
     },
     "execution_count": 105,
     "metadata": {},
     "output_type": "execute_result"
    }
   ],
   "source": [
    "key = 'eta=%s' % (xgb_params['eta'])\n",
    "scores[key] = parse_xgb_output(output)\n",
    "key\n",
    "scores[key]"
   ]
  },
  {
   "cell_type": "code",
   "execution_count": 106,
   "metadata": {},
   "outputs": [
    {
     "data": {
      "text/plain": [
       "<matplotlib.legend.Legend at 0x7f5730f2cbe0>"
      ]
     },
     "execution_count": 106,
     "metadata": {},
     "output_type": "execute_result"
    },
    {
     "data": {
      "image/png": "[encoded data removed]",
      "text/plain": [
       "<Figure size 640x480 with 1 Axes>"
      ]
     },
     "metadata": {},
     "output_type": "display_data"
    }
   ],
   "source": [
    "plt.figure()\n",
    "\n",
    "for i in ['eta=0.1']:\n",
    "    df_scores=scores[i]\n",
    "    plt.plot(df_scores.num_iter, df_scores.val_rmse, '-', alpha=0.7, label=key)\n",
    "plt.legend()"
   ]
  },
  {
   "cell_type": "code",
   "execution_count": 107,
   "metadata": {},
   "outputs": [],
   "source": [
    "%%capture output\n",
    "\n",
    "xgb_params = {\n",
    "    'eta': 0.3, \n",
    "    'max_depth': 6,\n",
    "    'min_child_weight': 1,\n",
    "    \n",
    "    'objective': 'reg:squarederror',\n",
    "    'nthread': 8,\n",
    "    'eval_metric': 'rmse',\n",
    "    \n",
    "    'seed': 1,\n",
    "    'verbosity': 1,\n",
    "}\n",
    "model = xgb.train(xgb_params, dtrain, num_boost_round=100, evals=watchlist)"
   ]
  },
  {
   "cell_type": "code",
   "execution_count": 108,
   "metadata": {},
   "outputs": [
    {
     "data": {
      "text/html": [
       "<div>\n",
       "<style scoped>\n",
       "    .dataframe tbody tr th:only-of-type {\n",
       "        vertical-align: middle;\n",
       "    }\n",
       "\n",
       "    .dataframe tbody tr th {\n",
       "        vertical-align: top;\n",
       "    }\n",
       "\n",
       "    .dataframe thead th {\n",
       "        text-align: right;\n",
       "    }\n",
       "</style>\n",
       "<table border=\"1\" class=\"dataframe\">\n",
       "  <thead>\n",
       "    <tr style=\"text-align: right;\">\n",
       "      <th></th>\n",
       "      <th>num_iter</th>\n",
       "      <th>train_rmse</th>\n",
       "      <th>val_rmse</th>\n",
       "    </tr>\n",
       "  </thead>\n",
       "  <tbody>\n",
       "    <tr>\n",
       "      <th>0</th>\n",
       "      <td>0</td>\n",
       "      <td>8.12733</td>\n",
       "      <td>8.13245</td>\n",
       "    </tr>\n",
       "    <tr>\n",
       "      <th>1</th>\n",
       "      <td>1</td>\n",
       "      <td>5.69586</td>\n",
       "      <td>5.70070</td>\n",
       "    </tr>\n",
       "    <tr>\n",
       "      <th>2</th>\n",
       "      <td>2</td>\n",
       "      <td>3.99540</td>\n",
       "      <td>4.00041</td>\n",
       "    </tr>\n",
       "    <tr>\n",
       "      <th>3</th>\n",
       "      <td>3</td>\n",
       "      <td>2.80712</td>\n",
       "      <td>2.81079</td>\n",
       "    </tr>\n",
       "    <tr>\n",
       "      <th>4</th>\n",
       "      <td>4</td>\n",
       "      <td>1.97834</td>\n",
       "      <td>1.98175</td>\n",
       "    </tr>\n",
       "    <tr>\n",
       "      <th>...</th>\n",
       "      <td>...</td>\n",
       "      <td>...</td>\n",
       "      <td>...</td>\n",
       "    </tr>\n",
       "    <tr>\n",
       "      <th>95</th>\n",
       "      <td>95</td>\n",
       "      <td>0.13553</td>\n",
       "      <td>0.22630</td>\n",
       "    </tr>\n",
       "    <tr>\n",
       "      <th>96</th>\n",
       "      <td>96</td>\n",
       "      <td>0.13458</td>\n",
       "      <td>0.22620</td>\n",
       "    </tr>\n",
       "    <tr>\n",
       "      <th>97</th>\n",
       "      <td>97</td>\n",
       "      <td>0.13372</td>\n",
       "      <td>0.22608</td>\n",
       "    </tr>\n",
       "    <tr>\n",
       "      <th>98</th>\n",
       "      <td>98</td>\n",
       "      <td>0.13344</td>\n",
       "      <td>0.22611</td>\n",
       "    </tr>\n",
       "    <tr>\n",
       "      <th>99</th>\n",
       "      <td>99</td>\n",
       "      <td>0.13299</td>\n",
       "      <td>0.22610</td>\n",
       "    </tr>\n",
       "  </tbody>\n",
       "</table>\n",
       "<p>100 rows × 3 columns</p>\n",
       "</div>"
      ],
      "text/plain": [
       "    num_iter  train_rmse  val_rmse\n",
       "0          0     8.12733   8.13245\n",
       "1          1     5.69586   5.70070\n",
       "2          2     3.99540   4.00041\n",
       "3          3     2.80712   2.81079\n",
       "4          4     1.97834   1.98175\n",
       "..       ...         ...       ...\n",
       "95        95     0.13553   0.22630\n",
       "96        96     0.13458   0.22620\n",
       "97        97     0.13372   0.22608\n",
       "98        98     0.13344   0.22611\n",
       "99        99     0.13299   0.22610\n",
       "\n",
       "[100 rows x 3 columns]"
      ]
     },
     "execution_count": 108,
     "metadata": {},
     "output_type": "execute_result"
    }
   ],
   "source": [
    "key = 'eta=%s' % (xgb_params['eta'])\n",
    "scores[key] = parse_xgb_output(output)\n",
    "key\n",
    "scores[key]"
   ]
  },
  {
   "cell_type": "code",
   "execution_count": 110,
   "metadata": {},
   "outputs": [
    {
     "data": {
      "text/plain": [
       "<matplotlib.legend.Legend at 0x7f5730f78d30>"
      ]
     },
     "execution_count": 110,
     "metadata": {},
     "output_type": "execute_result"
    },
    {
     "data": {
      "image/png": "[encoded data removed]",
      "text/plain": [
       "<Figure size 640x480 with 1 Axes>"
      ]
     },
     "metadata": {},
     "output_type": "display_data"
    }
   ],
   "source": [
    "plt.figure()\n",
    "\n",
    "for i in ['eta=0.3']:\n",
    "    df_scores=scores[i]\n",
    "    plt.plot(df_scores.num_iter, df_scores.val_rmse, '-', alpha=0.7, label=key)\n",
    "plt.legend()"
   ]
  },
  {
   "cell_type": "markdown",
   "metadata": {
    "id": "3RmcQ1BQ64X-"
   },
   "source": [
    "- Now, change eta first to 0.1 and then to 0.01."
   ]
  },
  {
   "cell_type": "markdown",
   "metadata": {
    "id": "Yl6Xn6Zb76iH"
   },
   "source": [
    "- Which eta leads to the best RMSE score on the validation dataset?\n",
    "\n",
    "- Answer:"
   ]
  },
  {
   "cell_type": "code",
   "execution_count": null,
   "metadata": {},
   "outputs": [],
   "source": []
  }
 ],
 "metadata": {
  "colab": {
   "provenance": []
  },
  "kernelspec": {
   "display_name": "Python 3 (ipykernel)",
   "language": "python",
   "name": "python3"
  },
  "language_info": {
   "codemirror_mode": {
    "name": "ipython",
    "version": 3
   },
   "file_extension": ".py",
   "mimetype": "text/x-python",
   "name": "python",
   "nbconvert_exporter": "python",
   "pygments_lexer": "ipython3",
   "version": "3.10.6"
  }
 },
 "nbformat": 4,
 "nbformat_minor": 1
}
