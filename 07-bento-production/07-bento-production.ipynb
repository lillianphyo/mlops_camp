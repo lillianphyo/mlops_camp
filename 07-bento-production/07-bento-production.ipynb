{
 "cells": [
  {
   "cell_type": "markdown",
   "id": "5a766f43",
   "metadata": {},
   "source": [
    "## Question 1\n",
    "\n",
    "* Install BentoML\n",
    "* What's the version of BentoML you installed?\n",
    "* Use `--version` to find out"
   ]
  },
  {
   "cell_type": "code",
   "execution_count": 3,
   "id": "2a963fde",
   "metadata": {},
   "outputs": [
    {
     "name": "stdout",
     "output_type": "stream",
     "text": [
      "bentoml                                      1.0.7\r\n"
     ]
    }
   ],
   "source": [
    "!pip list | grep \"bentoml\""
   ]
  },
  {
   "cell_type": "markdown",
   "id": "65c7b4ad",
   "metadata": {},
   "source": [
    "## Ans1: 1.0.7"
   ]
  },
  {
   "cell_type": "markdown",
   "id": "63ce031a",
   "metadata": {},
   "source": [
    "## Question 2\n",
    "\n",
    "Run the notebook which contains the xgboost model from module 6 i.e previous module and save the xgboost model with BentoML. To make it easier for you we have prepared this [notebook](https://github.com/alexeygrigorev/mlbookcamp-code/blob/master/course-zoomcamp/07-bentoml-production/code/train.ipynb). \n",
    "\n",
    "\n",
    "How big approximately is the saved BentoML model? Size can slightly vary depending on your local development environment.\n",
    "Choose the size closest to your model.\n",
    "\n",
    "* 924kb\n",
    "* 724kb\n",
    "* 114kb\n",
    "* 8kb"
   ]
  },
  {
   "cell_type": "code",
   "execution_count": 36,
   "id": "f149b540",
   "metadata": {},
   "outputs": [],
   "source": [
    "import pandas as pd\n",
    "import numpy as np\n",
    "\n",
    "from sklearn.model_selection import train_test_split\n",
    "from sklearn.feature_extraction import DictVectorizer\n",
    "\n",
    "from sklearn.ensemble import RandomForestClassifier\n",
    "\n",
    "import xgboost as xgb"
   ]
  },
  {
   "cell_type": "code",
   "execution_count": 21,
   "id": "726c68c8",
   "metadata": {},
   "outputs": [
    {
     "name": "stdout",
     "output_type": "stream",
     "text": [
      "--2022-10-26 13:59:39--  https://raw.githubusercontent.com/alexeygrigorev/mlbookcamp-code/master/chapter-06-trees/CreditScoring.csv\n",
      "Resolving raw.githubusercontent.com (raw.githubusercontent.com)... 185.199.108.133, 185.199.111.133, 185.199.109.133, ...\n",
      "Connecting to raw.githubusercontent.com (raw.githubusercontent.com)|185.199.108.133|:443... connected.\n",
      "HTTP request sent, awaiting response... 200 OK\n",
      "Length: 182489 (178K) [text/plain]\n",
      "Saving to: ‘CreditScoring.csv.2’\n",
      "\n",
      "CreditScoring.csv.2 100%[===================>] 178.21K   250KB/s    in 0.7s    \n",
      "\n",
      "2022-10-26 13:59:41 (250 KB/s) - ‘CreditScoring.csv.2’ saved [182489/182489]\n",
      "\n"
     ]
    }
   ],
   "source": [
    "!wget https://raw.githubusercontent.com/alexeygrigorev/mlbookcamp-code/master/chapter-06-trees/CreditScoring.csv"
   ]
  },
  {
   "cell_type": "code",
   "execution_count": 37,
   "id": "ee608b6a",
   "metadata": {},
   "outputs": [
    {
     "data": {
      "text/html": [
       "<div>\n",
       "<style scoped>\n",
       "    .dataframe tbody tr th:only-of-type {\n",
       "        vertical-align: middle;\n",
       "    }\n",
       "\n",
       "    .dataframe tbody tr th {\n",
       "        vertical-align: top;\n",
       "    }\n",
       "\n",
       "    .dataframe thead th {\n",
       "        text-align: right;\n",
       "    }\n",
       "</style>\n",
       "<table border=\"1\" class=\"dataframe\">\n",
       "  <thead>\n",
       "    <tr style=\"text-align: right;\">\n",
       "      <th></th>\n",
       "      <th>Status</th>\n",
       "      <th>Seniority</th>\n",
       "      <th>Home</th>\n",
       "      <th>Time</th>\n",
       "      <th>Age</th>\n",
       "      <th>Marital</th>\n",
       "      <th>Records</th>\n",
       "      <th>Job</th>\n",
       "      <th>Expenses</th>\n",
       "      <th>Income</th>\n",
       "      <th>Assets</th>\n",
       "      <th>Debt</th>\n",
       "      <th>Amount</th>\n",
       "      <th>Price</th>\n",
       "    </tr>\n",
       "  </thead>\n",
       "  <tbody>\n",
       "    <tr>\n",
       "      <th>0</th>\n",
       "      <td>1</td>\n",
       "      <td>9</td>\n",
       "      <td>1</td>\n",
       "      <td>60</td>\n",
       "      <td>30</td>\n",
       "      <td>2</td>\n",
       "      <td>1</td>\n",
       "      <td>3</td>\n",
       "      <td>73</td>\n",
       "      <td>129</td>\n",
       "      <td>0</td>\n",
       "      <td>0</td>\n",
       "      <td>800</td>\n",
       "      <td>846</td>\n",
       "    </tr>\n",
       "    <tr>\n",
       "      <th>1</th>\n",
       "      <td>1</td>\n",
       "      <td>17</td>\n",
       "      <td>1</td>\n",
       "      <td>60</td>\n",
       "      <td>58</td>\n",
       "      <td>3</td>\n",
       "      <td>1</td>\n",
       "      <td>1</td>\n",
       "      <td>48</td>\n",
       "      <td>131</td>\n",
       "      <td>0</td>\n",
       "      <td>0</td>\n",
       "      <td>1000</td>\n",
       "      <td>1658</td>\n",
       "    </tr>\n",
       "    <tr>\n",
       "      <th>2</th>\n",
       "      <td>2</td>\n",
       "      <td>10</td>\n",
       "      <td>2</td>\n",
       "      <td>36</td>\n",
       "      <td>46</td>\n",
       "      <td>2</td>\n",
       "      <td>2</td>\n",
       "      <td>3</td>\n",
       "      <td>90</td>\n",
       "      <td>200</td>\n",
       "      <td>3000</td>\n",
       "      <td>0</td>\n",
       "      <td>2000</td>\n",
       "      <td>2985</td>\n",
       "    </tr>\n",
       "    <tr>\n",
       "      <th>3</th>\n",
       "      <td>1</td>\n",
       "      <td>0</td>\n",
       "      <td>1</td>\n",
       "      <td>60</td>\n",
       "      <td>24</td>\n",
       "      <td>1</td>\n",
       "      <td>1</td>\n",
       "      <td>1</td>\n",
       "      <td>63</td>\n",
       "      <td>182</td>\n",
       "      <td>2500</td>\n",
       "      <td>0</td>\n",
       "      <td>900</td>\n",
       "      <td>1325</td>\n",
       "    </tr>\n",
       "    <tr>\n",
       "      <th>4</th>\n",
       "      <td>1</td>\n",
       "      <td>0</td>\n",
       "      <td>1</td>\n",
       "      <td>36</td>\n",
       "      <td>26</td>\n",
       "      <td>1</td>\n",
       "      <td>1</td>\n",
       "      <td>1</td>\n",
       "      <td>46</td>\n",
       "      <td>107</td>\n",
       "      <td>0</td>\n",
       "      <td>0</td>\n",
       "      <td>310</td>\n",
       "      <td>910</td>\n",
       "    </tr>\n",
       "    <tr>\n",
       "      <th>5</th>\n",
       "      <td>1</td>\n",
       "      <td>1</td>\n",
       "      <td>2</td>\n",
       "      <td>60</td>\n",
       "      <td>36</td>\n",
       "      <td>2</td>\n",
       "      <td>1</td>\n",
       "      <td>1</td>\n",
       "      <td>75</td>\n",
       "      <td>214</td>\n",
       "      <td>3500</td>\n",
       "      <td>0</td>\n",
       "      <td>650</td>\n",
       "      <td>1645</td>\n",
       "    </tr>\n",
       "    <tr>\n",
       "      <th>6</th>\n",
       "      <td>1</td>\n",
       "      <td>29</td>\n",
       "      <td>2</td>\n",
       "      <td>60</td>\n",
       "      <td>44</td>\n",
       "      <td>2</td>\n",
       "      <td>1</td>\n",
       "      <td>1</td>\n",
       "      <td>75</td>\n",
       "      <td>125</td>\n",
       "      <td>10000</td>\n",
       "      <td>0</td>\n",
       "      <td>1600</td>\n",
       "      <td>1800</td>\n",
       "    </tr>\n",
       "    <tr>\n",
       "      <th>7</th>\n",
       "      <td>1</td>\n",
       "      <td>9</td>\n",
       "      <td>5</td>\n",
       "      <td>12</td>\n",
       "      <td>27</td>\n",
       "      <td>1</td>\n",
       "      <td>1</td>\n",
       "      <td>1</td>\n",
       "      <td>35</td>\n",
       "      <td>80</td>\n",
       "      <td>0</td>\n",
       "      <td>0</td>\n",
       "      <td>200</td>\n",
       "      <td>1093</td>\n",
       "    </tr>\n",
       "    <tr>\n",
       "      <th>8</th>\n",
       "      <td>1</td>\n",
       "      <td>0</td>\n",
       "      <td>2</td>\n",
       "      <td>60</td>\n",
       "      <td>32</td>\n",
       "      <td>2</td>\n",
       "      <td>1</td>\n",
       "      <td>3</td>\n",
       "      <td>90</td>\n",
       "      <td>107</td>\n",
       "      <td>15000</td>\n",
       "      <td>0</td>\n",
       "      <td>1200</td>\n",
       "      <td>1957</td>\n",
       "    </tr>\n",
       "    <tr>\n",
       "      <th>9</th>\n",
       "      <td>2</td>\n",
       "      <td>0</td>\n",
       "      <td>5</td>\n",
       "      <td>48</td>\n",
       "      <td>41</td>\n",
       "      <td>2</td>\n",
       "      <td>1</td>\n",
       "      <td>2</td>\n",
       "      <td>90</td>\n",
       "      <td>80</td>\n",
       "      <td>0</td>\n",
       "      <td>0</td>\n",
       "      <td>1200</td>\n",
       "      <td>1468</td>\n",
       "    </tr>\n",
       "  </tbody>\n",
       "</table>\n",
       "</div>"
      ],
      "text/plain": [
       "   Status  Seniority  Home  Time  Age  Marital  Records  Job  Expenses  \\\n",
       "0       1          9     1    60   30        2        1    3        73   \n",
       "1       1         17     1    60   58        3        1    1        48   \n",
       "2       2         10     2    36   46        2        2    3        90   \n",
       "3       1          0     1    60   24        1        1    1        63   \n",
       "4       1          0     1    36   26        1        1    1        46   \n",
       "5       1          1     2    60   36        2        1    1        75   \n",
       "6       1         29     2    60   44        2        1    1        75   \n",
       "7       1          9     5    12   27        1        1    1        35   \n",
       "8       1          0     2    60   32        2        1    3        90   \n",
       "9       2          0     5    48   41        2        1    2        90   \n",
       "\n",
       "   Income  Assets  Debt  Amount  Price  \n",
       "0     129       0     0     800    846  \n",
       "1     131       0     0    1000   1658  \n",
       "2     200    3000     0    2000   2985  \n",
       "3     182    2500     0     900   1325  \n",
       "4     107       0     0     310    910  \n",
       "5     214    3500     0     650   1645  \n",
       "6     125   10000     0    1600   1800  \n",
       "7      80       0     0     200   1093  \n",
       "8     107   15000     0    1200   1957  \n",
       "9      80       0     0    1200   1468  "
      ]
     },
     "execution_count": 37,
     "metadata": {},
     "output_type": "execute_result"
    }
   ],
   "source": [
    "data = './CreditScoring.csv'\n",
    "df = pd.read_csv(data)\n",
    "df.head(10)"
   ]
  },
  {
   "cell_type": "code",
   "execution_count": 38,
   "id": "5a153dcb",
   "metadata": {},
   "outputs": [],
   "source": [
    "df.columns = df.columns.str.lower()\n",
    "\n",
    "status_values = {\n",
    "    1: 'ok',\n",
    "    2: 'default',\n",
    "    0: 'unk'\n",
    "}\n",
    "\n",
    "df.status = df.status.map(status_values)\n",
    "\n",
    "home_values = {\n",
    "    1: 'rent',\n",
    "    2: 'owner',\n",
    "    3: 'private',\n",
    "    4: 'ignore',\n",
    "    5: 'parents',\n",
    "    6: 'other',\n",
    "    0: 'unk'\n",
    "}\n",
    "\n",
    "df.home = df.home.map(home_values)\n",
    "\n",
    "marital_values = {\n",
    "    1: 'single',\n",
    "    2: 'married',\n",
    "    3: 'widow',\n",
    "    4: 'separated',\n",
    "    5: 'divorced',\n",
    "    0: 'unk'\n",
    "}\n",
    "\n",
    "df.marital = df.marital.map(marital_values)\n",
    "\n",
    "records_values = {\n",
    "    1: 'no',\n",
    "    2: 'yes',\n",
    "    0: 'unk'\n",
    "}\n",
    "\n",
    "df.records = df.records.map(records_values)\n",
    "\n",
    "job_values = {\n",
    "    1: 'fixed',\n",
    "    2: 'partime',\n",
    "    3: 'freelance',\n",
    "    4: 'others',\n",
    "    0: 'unk'\n",
    "}\n",
    "\n",
    "df.job = df.job.map(job_values)\n",
    "\n",
    "for c in ['income', 'assets', 'debt']:\n",
    "    df[c] = df[c].replace(to_replace=99999999, value=np.nan)\n",
    "\n",
    "df = df[df.status != 'unk'].reset_index(drop=True)\n"
   ]
  },
  {
   "cell_type": "code",
   "execution_count": 39,
   "id": "4d46c83f",
   "metadata": {},
   "outputs": [],
   "source": [
    "df_train, df_test = train_test_split(df, test_size=0.2, random_state=11)\n",
    "\n",
    "df_train = df_train.reset_index(drop=True)\n",
    "df_test = df_test.reset_index(drop=True)\n",
    "\n",
    "y_train = (df_train.status == 'default').astype('int').values\n",
    "y_test = (df_test.status == 'default').astype('int').values\n",
    "\n",
    "del df_train['status']\n",
    "del df_test['status']\n"
   ]
  },
  {
   "cell_type": "code",
   "execution_count": 40,
   "id": "883d9aad",
   "metadata": {},
   "outputs": [],
   "source": [
    "dv = DictVectorizer(sparse=False)\n",
    "\n",
    "train_dicts = df_train.fillna(0).to_dict(orient='records')\n",
    "X_train = dv.fit_transform(train_dicts)\n",
    "\n",
    "test_dicts = df_test.fillna(0).to_dict(orient='records')\n",
    "X_test = dv.transform(test_dicts)"
   ]
  },
  {
   "cell_type": "code",
   "execution_count": 41,
   "id": "0eec3d3d",
   "metadata": {},
   "outputs": [
    {
     "data": {
      "text/plain": [
       "RandomForestClassifier(max_depth=10, min_samples_leaf=3, n_estimators=200,\n",
       "                       random_state=1)"
      ]
     },
     "execution_count": 41,
     "metadata": {},
     "output_type": "execute_result"
    }
   ],
   "source": [
    "#Random Forest\n",
    "rf = RandomForestClassifier(n_estimators=200,\n",
    "                            max_depth=10,\n",
    "                            min_samples_leaf=3,\n",
    "                            random_state=1)\n",
    "rf.fit(X_train, y_train)"
   ]
  },
  {
   "cell_type": "code",
   "execution_count": 42,
   "id": "f6f842ad",
   "metadata": {},
   "outputs": [],
   "source": [
    "#XGBOOST\n",
    "dtrain = xgb.DMatrix(X_train, label=y_train)"
   ]
  },
  {
   "cell_type": "code",
   "execution_count": 43,
   "id": "421aec7c",
   "metadata": {},
   "outputs": [],
   "source": [
    "xgb_params = {\n",
    "    'eta': 0.1, \n",
    "    'max_depth': 3,\n",
    "    'min_child_weight': 1,\n",
    "\n",
    "    'objective': 'binary:logistic',\n",
    "    'eval_metric': 'auc',\n",
    "\n",
    "    'nthread': 8,\n",
    "    'seed': 1,\n",
    "    'verbosity': 1,\n",
    "}\n",
    "\n",
    "model = xgb.train(xgb_params, dtrain, num_boost_round=175)"
   ]
  },
  {
   "cell_type": "code",
   "execution_count": 44,
   "id": "41c0ea83",
   "metadata": {},
   "outputs": [],
   "source": [
    "#BentoML\n",
    "import bentoml"
   ]
  },
  {
   "cell_type": "code",
   "execution_count": 45,
   "id": "594b2f43",
   "metadata": {},
   "outputs": [
    {
     "data": {
      "text/plain": [
       "Model(tag=\"credit_risk_model:rrsdo4cvacha3oj3\", path=\"/home/lillian/bentoml/models/credit_risk_model/rrsdo4cvacha3oj3/\")"
      ]
     },
     "execution_count": 45,
     "metadata": {},
     "output_type": "execute_result"
    }
   ],
   "source": [
    "bentoml.xgboost.save_model(\n",
    "    'credit_risk_model',\n",
    "    model,\n",
    "    custom_objects={\n",
    "        'dictVectorizer': dv\n",
    "    })"
   ]
  },
  {
   "cell_type": "code",
   "execution_count": 46,
   "id": "663477d7",
   "metadata": {},
   "outputs": [],
   "source": [
    "import json"
   ]
  },
  {
   "cell_type": "code",
   "execution_count": 47,
   "id": "dbfce37b",
   "metadata": {},
   "outputs": [
    {
     "name": "stdout",
     "output_type": "stream",
     "text": [
      "{\n",
      "  \"seniority\": 3,\n",
      "  \"home\": \"owner\",\n",
      "  \"time\": 36,\n",
      "  \"age\": 26,\n",
      "  \"marital\": \"single\",\n",
      "  \"records\": \"no\",\n",
      "  \"job\": \"freelance\",\n",
      "  \"expenses\": 35,\n",
      "  \"income\": 0.0,\n",
      "  \"assets\": 60000.0,\n",
      "  \"debt\": 3000.0,\n",
      "  \"amount\": 800,\n",
      "  \"price\": 1000\n",
      "}\n"
     ]
    }
   ],
   "source": [
    "request = df_test.iloc[0].to_dict()\n",
    "print(json.dumps(request, indent=2))"
   ]
  },
  {
   "cell_type": "markdown",
   "id": "c8e35833",
   "metadata": {},
   "source": [
    "## Ans2:  206.6 kB"
   ]
  },
  {
   "cell_type": "markdown",
   "id": "142164e2",
   "metadata": {},
   "source": [
    "## Question 3\n",
    "\n",
    "Say you have the following data that you're sending to your service:\n",
    "\n",
    "```json\n",
    "{\n",
    "  \"name\": \"Tim\",\n",
    "  \"age\": 37,\n",
    "  \"country\": \"US\",\n",
    "  \"rating\": 3.14\n",
    "}\n",
    "```\n",
    "\n",
    "What would the pydantic class look like? You can name the class `UserProfile`."
   ]
  },
  {
   "cell_type": "code",
   "execution_count": 49,
   "id": "802f5592",
   "metadata": {},
   "outputs": [],
   "source": [
    "from pydantic import BaseModel"
   ]
  },
  {
   "cell_type": "code",
   "execution_count": 50,
   "id": "6e52075c",
   "metadata": {},
   "outputs": [],
   "source": [
    "class UserProfile(BaseModel):\n",
    "    name: str\n",
    "    age: int\n",
    "    country: str\n",
    "    rating: float"
   ]
  },
  {
   "cell_type": "markdown",
   "id": "6e9ebe53",
   "metadata": {},
   "source": [
    "## Question 4\n",
    "\n",
    "We've prepared a model for you that you can import using:\n",
    "\n",
    "```bash\n",
    "curl -O https://s3.us-west-2.amazonaws.com/bentoml.com/mlzoomcamp/coolmodel.bentomodel\n",
    "bentoml models import coolmodel.bentomodel\n",
    "```\n",
    "\n",
    "What version of scikit-learn was this model trained with?\n",
    "\n",
    "* 1.1.1\n",
    "* 1.1.2\n",
    "* 1.1.3\n",
    "* 1.1.4\n",
    "* 1.1.5"
   ]
  },
  {
   "cell_type": "code",
   "execution_count": 55,
   "id": "ce48293c",
   "metadata": {},
   "outputs": [
    {
     "data": {
      "text/plain": [
       "Model(tag=\"mlzoomcamp_homework:qtzdz3slg6mwwdu5\", path=\"/home/lillian/bentoml/models/mlzoomcamp_homework/qtzdz3slg6mwwdu5\")"
      ]
     },
     "execution_count": 55,
     "metadata": {},
     "output_type": "execute_result"
    }
   ],
   "source": [
    "import bentoml\n",
    "bentoml.models.get(\"mlzoomcamp_homework:qtzdz3slg6mwwdu5\")"
   ]
  },
  {
   "cell_type": "code",
   "execution_count": 56,
   "id": "5ae99bc9",
   "metadata": {},
   "outputs": [
    {
     "name": "stdout",
     "output_type": "stream",
     "text": [
      "\u001b[38;2;249;38;114;48;2;39;40;34mname\u001b[0m\u001b[38;2;248;248;242;48;2;39;40;34m:\u001b[0m\u001b[38;2;248;248;242;48;2;39;40;34m \u001b[0m\u001b[48;2;39;40;34mmlzoomcamp_homework\u001b[0m\u001b[48;2;39;40;34m                                                       \u001b[0m\r\n",
      "\u001b[38;2;249;38;114;48;2;39;40;34mversion\u001b[0m\u001b[38;2;248;248;242;48;2;39;40;34m:\u001b[0m\u001b[38;2;248;248;242;48;2;39;40;34m \u001b[0m\u001b[48;2;39;40;34mqtzdz3slg6mwwdu5\u001b[0m\u001b[48;2;39;40;34m                                                       \u001b[0m\r\n",
      "\u001b[38;2;249;38;114;48;2;39;40;34mmodule\u001b[0m\u001b[38;2;248;248;242;48;2;39;40;34m:\u001b[0m\u001b[38;2;248;248;242;48;2;39;40;34m \u001b[0m\u001b[48;2;39;40;34mbentoml.sklearn\u001b[0m\u001b[48;2;39;40;34m                                                         \u001b[0m\r\n",
      "\u001b[38;2;249;38;114;48;2;39;40;34mlabels\u001b[0m\u001b[38;2;248;248;242;48;2;39;40;34m:\u001b[0m\u001b[38;2;248;248;242;48;2;39;40;34m \u001b[0m\u001b[48;2;39;40;34m{\u001b[0m\u001b[48;2;39;40;34m}\u001b[0m\u001b[48;2;39;40;34m                                                                      \u001b[0m\r\n",
      "\u001b[38;2;249;38;114;48;2;39;40;34moptions\u001b[0m\u001b[38;2;248;248;242;48;2;39;40;34m:\u001b[0m\u001b[38;2;248;248;242;48;2;39;40;34m \u001b[0m\u001b[48;2;39;40;34m{\u001b[0m\u001b[48;2;39;40;34m}\u001b[0m\u001b[48;2;39;40;34m                                                                     \u001b[0m\r\n",
      "\u001b[38;2;249;38;114;48;2;39;40;34mmetadata\u001b[0m\u001b[38;2;248;248;242;48;2;39;40;34m:\u001b[0m\u001b[38;2;248;248;242;48;2;39;40;34m \u001b[0m\u001b[48;2;39;40;34m{\u001b[0m\u001b[48;2;39;40;34m}\u001b[0m\u001b[48;2;39;40;34m                                                                    \u001b[0m\r\n",
      "\u001b[38;2;249;38;114;48;2;39;40;34mcontext\u001b[0m\u001b[38;2;248;248;242;48;2;39;40;34m:\u001b[0m\u001b[48;2;39;40;34m                                                                        \u001b[0m\r\n",
      "\u001b[38;2;248;248;242;48;2;39;40;34m  \u001b[0m\u001b[38;2;249;38;114;48;2;39;40;34mframework_name\u001b[0m\u001b[38;2;248;248;242;48;2;39;40;34m:\u001b[0m\u001b[38;2;248;248;242;48;2;39;40;34m \u001b[0m\u001b[48;2;39;40;34msklearn\u001b[0m\u001b[48;2;39;40;34m                                                       \u001b[0m\r\n",
      "\u001b[38;2;248;248;242;48;2;39;40;34m  \u001b[0m\u001b[38;2;249;38;114;48;2;39;40;34mframework_versions\u001b[0m\u001b[38;2;248;248;242;48;2;39;40;34m:\u001b[0m\u001b[48;2;39;40;34m                                                           \u001b[0m\r\n",
      "\u001b[38;2;248;248;242;48;2;39;40;34m    \u001b[0m\u001b[38;2;249;38;114;48;2;39;40;34mscikit-learn\u001b[0m\u001b[38;2;248;248;242;48;2;39;40;34m:\u001b[0m\u001b[38;2;248;248;242;48;2;39;40;34m \u001b[0m\u001b[48;2;39;40;34m1.1.1\u001b[0m\u001b[48;2;39;40;34m                                                         \u001b[0m\r\n",
      "\u001b[38;2;248;248;242;48;2;39;40;34m  \u001b[0m\u001b[38;2;249;38;114;48;2;39;40;34mbentoml_version\u001b[0m\u001b[38;2;248;248;242;48;2;39;40;34m:\u001b[0m\u001b[38;2;248;248;242;48;2;39;40;34m \u001b[0m\u001b[48;2;39;40;34m1.0.7\u001b[0m\u001b[48;2;39;40;34m                                                        \u001b[0m\r\n",
      "\u001b[38;2;248;248;242;48;2;39;40;34m  \u001b[0m\u001b[38;2;249;38;114;48;2;39;40;34mpython_version\u001b[0m\u001b[38;2;248;248;242;48;2;39;40;34m:\u001b[0m\u001b[38;2;248;248;242;48;2;39;40;34m \u001b[0m\u001b[48;2;39;40;34m3.9.12\u001b[0m\u001b[48;2;39;40;34m                                                        \u001b[0m\r\n",
      "\u001b[38;2;249;38;114;48;2;39;40;34msignatures\u001b[0m\u001b[38;2;248;248;242;48;2;39;40;34m:\u001b[0m\u001b[48;2;39;40;34m                                                                     \u001b[0m\r\n",
      "\u001b[38;2;248;248;242;48;2;39;40;34m  \u001b[0m\u001b[38;2;249;38;114;48;2;39;40;34mpredict\u001b[0m\u001b[38;2;248;248;242;48;2;39;40;34m:\u001b[0m\u001b[48;2;39;40;34m                                                                      \u001b[0m\r\n",
      "\u001b[38;2;248;248;242;48;2;39;40;34m    \u001b[0m\u001b[38;2;249;38;114;48;2;39;40;34mbatchable\u001b[0m\u001b[38;2;248;248;242;48;2;39;40;34m:\u001b[0m\u001b[38;2;248;248;242;48;2;39;40;34m \u001b[0m\u001b[48;2;39;40;34mfalse\u001b[0m\u001b[48;2;39;40;34m                                                            \u001b[0m\r\n",
      "\u001b[38;2;249;38;114;48;2;39;40;34mapi_version\u001b[0m\u001b[38;2;248;248;242;48;2;39;40;34m:\u001b[0m\u001b[38;2;248;248;242;48;2;39;40;34m \u001b[0m\u001b[48;2;39;40;34mv1\u001b[0m\u001b[48;2;39;40;34m                                                                 \u001b[0m\r\n",
      "\u001b[38;2;249;38;114;48;2;39;40;34mcreation_time\u001b[0m\u001b[38;2;248;248;242;48;2;39;40;34m:\u001b[0m\u001b[38;2;248;248;242;48;2;39;40;34m \u001b[0m\u001b[38;2;230;219;116;48;2;39;40;34m'\u001b[0m\u001b[38;2;230;219;116;48;2;39;40;34m2022-10-13T20:42:14.411084+00:00\u001b[0m\u001b[38;2;230;219;116;48;2;39;40;34m'\u001b[0m\u001b[48;2;39;40;34m                               \u001b[0m\r\n",
      "\u001b[48;2;39;40;34m                                                                                \u001b[0m\r\n"
     ]
    }
   ],
   "source": [
    "!bentoml models get mlzoomcamp_homework:qtzdz3slg6mwwdu5"
   ]
  },
  {
   "cell_type": "markdown",
   "id": "f9a668c5",
   "metadata": {},
   "source": [
    "## Ans4: 1.1.1"
   ]
  },
  {
   "cell_type": "markdown",
   "id": "5e5e1238",
   "metadata": {},
   "source": [
    "## Question 5 \n",
    "\n",
    "Create a bento out of this scikit-learn model. The output type for this endpoint should be `NumpyNdarray()`\n",
    "\n",
    "Send this array to the Bento:\n",
    "\n",
    "```\n",
    "[[6.4,3.5,4.5,1.2]]\n",
    "```\n",
    "\n",
    "You can use curl or the Swagger UI. What value does it return? \n",
    "\n",
    "* 0\n",
    "* 1\n",
    "* 2\n",
    "* 3\n",
    "\n",
    "(Make sure your environment has Scikit-Learn installed) \n"
   ]
  },
  {
   "cell_type": "code",
   "execution_count": 57,
   "id": "fa6a4274",
   "metadata": {},
   "outputs": [],
   "source": [
    "model_ref = bentoml.sklearn.get(\"mlzoomcamp_homework:qtzdz3slg6mwwdu5\")"
   ]
  },
  {
   "cell_type": "code",
   "execution_count": 58,
   "id": "1707ab04",
   "metadata": {},
   "outputs": [
    {
     "data": {
      "text/plain": [
       "{}"
      ]
     },
     "execution_count": 58,
     "metadata": {},
     "output_type": "execute_result"
    }
   ],
   "source": [
    "model_ref.custom_objects"
   ]
  },
  {
   "cell_type": "code",
   "execution_count": 70,
   "id": "bc343523",
   "metadata": {},
   "outputs": [
    {
     "name": "stdout",
     "output_type": "stream",
     "text": [
      "<!doctype html>\r\n",
      "<html lang=en>\r\n",
      "<title>404 Not Found</title>\r\n",
      "<h1>Not Found</h1>\r\n",
      "<p>The requested URL was not found on the server. If you entered the URL manually please check your spelling and try again.</p>\r\n"
     ]
    }
   ],
   "source": [
    "!curl -X POST -F 'input=[[6.4,3.5,4.5,1.2]]' http://0.0.0.0:8089/classify"
   ]
  },
  {
   "cell_type": "markdown",
   "id": "702fee9e",
   "metadata": {},
   "source": [
    "## Ans5: 1"
   ]
  },
  {
   "cell_type": "markdown",
   "id": "1ddbade5",
   "metadata": {},
   "source": [
    "## Question 6\n",
    "\n",
    "Ensure to serve your bento with `--production` for this question\n",
    "\n",
    "Install locust using:\n",
    "\n",
    "```bash\n",
    "pip install locust\n",
    "```\n",
    "\n",
    "Use the following locust file: [locustfile.py](locustfile.py)\n",
    "\n",
    "Ensure that it is pointed at your bento's endpoint (In case you didn't name your endpoint \"classify\")\n",
    "\n",
    "<img src=\"resources/classify-endpoint.png\">\n",
    "\n",
    "Configure 100 users with ramp time of 10 users per second. Click \"Start Swarming\" and ensure that it is working.\n",
    "\n",
    "Now download a second model with this command:\n",
    "\n",
    "```bash\n",
    "curl -O https://s3.us-west-2.amazonaws.com/bentoml.com/mlzoomcamp/coolmodel2.bentomodel\n",
    "```\n",
    "\n",
    "Or you can download with this link as well:\n",
    "[https://s3.us-west-2.amazonaws.com/bentoml.com/mlzoomcamp/coolmodel2.bentomodel](https://s3.us-west-2.amazonaws.com/bentoml.com/mlzoomcamp/coolmodel2.bentomodel)\n",
    "\n",
    "Now import the model:\n",
    "\n",
    "```bash\n",
    "bentoml models import coolmodel2.bentomodel\n",
    "```\n",
    "\n",
    "Update your bento's runner tag and test with both models. Which model allows more traffic (more throughput) as you ramp up the traffic?\n",
    "\n",
    "**Hint 1**: Remember to turn off and turn on your bento service between changing the model tag. Use Ctl-C to close the service in between trials.\n",
    "\n",
    "**Hint 2**: Increase the number of concurrent users to see which one has higher throughput\n",
    "\n",
    "Which model has better performance at higher volumes?\n",
    "\n",
    "* The first model\n",
    "* The second model"
   ]
  },
  {
   "cell_type": "code",
   "execution_count": 62,
   "id": "b1c2b5ef",
   "metadata": {},
   "outputs": [
    {
     "name": "stdout",
     "output_type": "stream",
     "text": [
      "\u001b[38;2;249;38;114;48;2;39;40;34mname\u001b[0m\u001b[38;2;248;248;242;48;2;39;40;34m:\u001b[0m\u001b[38;2;248;248;242;48;2;39;40;34m \u001b[0m\u001b[48;2;39;40;34mmlzoomcamp_homework\u001b[0m\u001b[48;2;39;40;34m                                                       \u001b[0m\r\n",
      "\u001b[38;2;249;38;114;48;2;39;40;34mversion\u001b[0m\u001b[38;2;248;248;242;48;2;39;40;34m:\u001b[0m\u001b[38;2;248;248;242;48;2;39;40;34m \u001b[0m\u001b[48;2;39;40;34mjsi67fslz6txydu5\u001b[0m\u001b[48;2;39;40;34m                                                       \u001b[0m\r\n",
      "\u001b[38;2;249;38;114;48;2;39;40;34mmodule\u001b[0m\u001b[38;2;248;248;242;48;2;39;40;34m:\u001b[0m\u001b[38;2;248;248;242;48;2;39;40;34m \u001b[0m\u001b[48;2;39;40;34mbentoml.sklearn\u001b[0m\u001b[48;2;39;40;34m                                                         \u001b[0m\r\n",
      "\u001b[38;2;249;38;114;48;2;39;40;34mlabels\u001b[0m\u001b[38;2;248;248;242;48;2;39;40;34m:\u001b[0m\u001b[38;2;248;248;242;48;2;39;40;34m \u001b[0m\u001b[48;2;39;40;34m{\u001b[0m\u001b[48;2;39;40;34m}\u001b[0m\u001b[48;2;39;40;34m                                                                      \u001b[0m\r\n",
      "\u001b[38;2;249;38;114;48;2;39;40;34moptions\u001b[0m\u001b[38;2;248;248;242;48;2;39;40;34m:\u001b[0m\u001b[38;2;248;248;242;48;2;39;40;34m \u001b[0m\u001b[48;2;39;40;34m{\u001b[0m\u001b[48;2;39;40;34m}\u001b[0m\u001b[48;2;39;40;34m                                                                     \u001b[0m\r\n",
      "\u001b[38;2;249;38;114;48;2;39;40;34mmetadata\u001b[0m\u001b[38;2;248;248;242;48;2;39;40;34m:\u001b[0m\u001b[38;2;248;248;242;48;2;39;40;34m \u001b[0m\u001b[48;2;39;40;34m{\u001b[0m\u001b[48;2;39;40;34m}\u001b[0m\u001b[48;2;39;40;34m                                                                    \u001b[0m\r\n",
      "\u001b[38;2;249;38;114;48;2;39;40;34mcontext\u001b[0m\u001b[38;2;248;248;242;48;2;39;40;34m:\u001b[0m\u001b[48;2;39;40;34m                                                                        \u001b[0m\r\n",
      "\u001b[38;2;248;248;242;48;2;39;40;34m  \u001b[0m\u001b[38;2;249;38;114;48;2;39;40;34mframework_name\u001b[0m\u001b[38;2;248;248;242;48;2;39;40;34m:\u001b[0m\u001b[38;2;248;248;242;48;2;39;40;34m \u001b[0m\u001b[48;2;39;40;34msklearn\u001b[0m\u001b[48;2;39;40;34m                                                       \u001b[0m\r\n",
      "\u001b[38;2;248;248;242;48;2;39;40;34m  \u001b[0m\u001b[38;2;249;38;114;48;2;39;40;34mframework_versions\u001b[0m\u001b[38;2;248;248;242;48;2;39;40;34m:\u001b[0m\u001b[48;2;39;40;34m                                                           \u001b[0m\r\n",
      "\u001b[38;2;248;248;242;48;2;39;40;34m    \u001b[0m\u001b[38;2;249;38;114;48;2;39;40;34mscikit-learn\u001b[0m\u001b[38;2;248;248;242;48;2;39;40;34m:\u001b[0m\u001b[38;2;248;248;242;48;2;39;40;34m \u001b[0m\u001b[48;2;39;40;34m1.1.1\u001b[0m\u001b[48;2;39;40;34m                                                         \u001b[0m\r\n",
      "\u001b[38;2;248;248;242;48;2;39;40;34m  \u001b[0m\u001b[38;2;249;38;114;48;2;39;40;34mbentoml_version\u001b[0m\u001b[38;2;248;248;242;48;2;39;40;34m:\u001b[0m\u001b[38;2;248;248;242;48;2;39;40;34m \u001b[0m\u001b[48;2;39;40;34m1.0.7\u001b[0m\u001b[48;2;39;40;34m                                                        \u001b[0m\r\n",
      "\u001b[38;2;248;248;242;48;2;39;40;34m  \u001b[0m\u001b[38;2;249;38;114;48;2;39;40;34mpython_version\u001b[0m\u001b[38;2;248;248;242;48;2;39;40;34m:\u001b[0m\u001b[38;2;248;248;242;48;2;39;40;34m \u001b[0m\u001b[48;2;39;40;34m3.9.12\u001b[0m\u001b[48;2;39;40;34m                                                        \u001b[0m\r\n",
      "\u001b[38;2;249;38;114;48;2;39;40;34msignatures\u001b[0m\u001b[38;2;248;248;242;48;2;39;40;34m:\u001b[0m\u001b[48;2;39;40;34m                                                                     \u001b[0m\r\n",
      "\u001b[38;2;248;248;242;48;2;39;40;34m  \u001b[0m\u001b[38;2;249;38;114;48;2;39;40;34mpredict\u001b[0m\u001b[38;2;248;248;242;48;2;39;40;34m:\u001b[0m\u001b[48;2;39;40;34m                                                                      \u001b[0m\r\n",
      "\u001b[38;2;248;248;242;48;2;39;40;34m    \u001b[0m\u001b[38;2;249;38;114;48;2;39;40;34mbatchable\u001b[0m\u001b[38;2;248;248;242;48;2;39;40;34m:\u001b[0m\u001b[38;2;248;248;242;48;2;39;40;34m \u001b[0m\u001b[48;2;39;40;34mtrue\u001b[0m\u001b[48;2;39;40;34m                                                             \u001b[0m\r\n",
      "\u001b[38;2;248;248;242;48;2;39;40;34m    \u001b[0m\u001b[38;2;249;38;114;48;2;39;40;34mbatch_dim\u001b[0m\u001b[38;2;248;248;242;48;2;39;40;34m:\u001b[0m\u001b[48;2;39;40;34m                                                                  \u001b[0m\r\n",
      "\u001b[38;2;248;248;242;48;2;39;40;34m    \u001b[0m\u001b[48;2;39;40;34m-\u001b[0m\u001b[38;2;248;248;242;48;2;39;40;34m \u001b[0m\u001b[48;2;39;40;34m0\u001b[0m\u001b[48;2;39;40;34m                                                                         \u001b[0m\r\n",
      "\u001b[38;2;248;248;242;48;2;39;40;34m    \u001b[0m\u001b[48;2;39;40;34m-\u001b[0m\u001b[38;2;248;248;242;48;2;39;40;34m \u001b[0m\u001b[48;2;39;40;34m0\u001b[0m\u001b[48;2;39;40;34m                                                                         \u001b[0m\r\n",
      "\u001b[38;2;249;38;114;48;2;39;40;34mapi_version\u001b[0m\u001b[38;2;248;248;242;48;2;39;40;34m:\u001b[0m\u001b[38;2;248;248;242;48;2;39;40;34m \u001b[0m\u001b[48;2;39;40;34mv1\u001b[0m\u001b[48;2;39;40;34m                                                                 \u001b[0m\r\n",
      "\u001b[38;2;249;38;114;48;2;39;40;34mcreation_time\u001b[0m\u001b[38;2;248;248;242;48;2;39;40;34m:\u001b[0m\u001b[38;2;248;248;242;48;2;39;40;34m \u001b[0m\u001b[38;2;230;219;116;48;2;39;40;34m'\u001b[0m\u001b[38;2;230;219;116;48;2;39;40;34m2022-10-14T14:48:43.330446+00:00\u001b[0m\u001b[38;2;230;219;116;48;2;39;40;34m'\u001b[0m\u001b[48;2;39;40;34m                               \u001b[0m\r\n",
      "\u001b[48;2;39;40;34m                                                                                \u001b[0m\r\n"
     ]
    }
   ],
   "source": [
    "!bentoml models get mlzoomcamp_homework:jsi67fslz6txydu5"
   ]
  },
  {
   "cell_type": "code",
   "execution_count": 63,
   "id": "e9e1df3a",
   "metadata": {},
   "outputs": [
    {
     "name": "stdout",
     "output_type": "stream",
     "text": [
      "\u001b[38;2;249;38;114;48;2;39;40;34mname\u001b[0m\u001b[38;2;248;248;242;48;2;39;40;34m:\u001b[0m\u001b[38;2;248;248;242;48;2;39;40;34m \u001b[0m\u001b[48;2;39;40;34mmlzoomcamp_homework\u001b[0m\u001b[48;2;39;40;34m                                                       \u001b[0m\r\n",
      "\u001b[38;2;249;38;114;48;2;39;40;34mversion\u001b[0m\u001b[38;2;248;248;242;48;2;39;40;34m:\u001b[0m\u001b[38;2;248;248;242;48;2;39;40;34m \u001b[0m\u001b[48;2;39;40;34mqtzdz3slg6mwwdu5\u001b[0m\u001b[48;2;39;40;34m                                                       \u001b[0m\r\n",
      "\u001b[38;2;249;38;114;48;2;39;40;34mmodule\u001b[0m\u001b[38;2;248;248;242;48;2;39;40;34m:\u001b[0m\u001b[38;2;248;248;242;48;2;39;40;34m \u001b[0m\u001b[48;2;39;40;34mbentoml.sklearn\u001b[0m\u001b[48;2;39;40;34m                                                         \u001b[0m\r\n",
      "\u001b[38;2;249;38;114;48;2;39;40;34mlabels\u001b[0m\u001b[38;2;248;248;242;48;2;39;40;34m:\u001b[0m\u001b[38;2;248;248;242;48;2;39;40;34m \u001b[0m\u001b[48;2;39;40;34m{\u001b[0m\u001b[48;2;39;40;34m}\u001b[0m\u001b[48;2;39;40;34m                                                                      \u001b[0m\r\n",
      "\u001b[38;2;249;38;114;48;2;39;40;34moptions\u001b[0m\u001b[38;2;248;248;242;48;2;39;40;34m:\u001b[0m\u001b[38;2;248;248;242;48;2;39;40;34m \u001b[0m\u001b[48;2;39;40;34m{\u001b[0m\u001b[48;2;39;40;34m}\u001b[0m\u001b[48;2;39;40;34m                                                                     \u001b[0m\r\n",
      "\u001b[38;2;249;38;114;48;2;39;40;34mmetadata\u001b[0m\u001b[38;2;248;248;242;48;2;39;40;34m:\u001b[0m\u001b[38;2;248;248;242;48;2;39;40;34m \u001b[0m\u001b[48;2;39;40;34m{\u001b[0m\u001b[48;2;39;40;34m}\u001b[0m\u001b[48;2;39;40;34m                                                                    \u001b[0m\r\n",
      "\u001b[38;2;249;38;114;48;2;39;40;34mcontext\u001b[0m\u001b[38;2;248;248;242;48;2;39;40;34m:\u001b[0m\u001b[48;2;39;40;34m                                                                        \u001b[0m\r\n",
      "\u001b[38;2;248;248;242;48;2;39;40;34m  \u001b[0m\u001b[38;2;249;38;114;48;2;39;40;34mframework_name\u001b[0m\u001b[38;2;248;248;242;48;2;39;40;34m:\u001b[0m\u001b[38;2;248;248;242;48;2;39;40;34m \u001b[0m\u001b[48;2;39;40;34msklearn\u001b[0m\u001b[48;2;39;40;34m                                                       \u001b[0m\r\n",
      "\u001b[38;2;248;248;242;48;2;39;40;34m  \u001b[0m\u001b[38;2;249;38;114;48;2;39;40;34mframework_versions\u001b[0m\u001b[38;2;248;248;242;48;2;39;40;34m:\u001b[0m\u001b[48;2;39;40;34m                                                           \u001b[0m\r\n",
      "\u001b[38;2;248;248;242;48;2;39;40;34m    \u001b[0m\u001b[38;2;249;38;114;48;2;39;40;34mscikit-learn\u001b[0m\u001b[38;2;248;248;242;48;2;39;40;34m:\u001b[0m\u001b[38;2;248;248;242;48;2;39;40;34m \u001b[0m\u001b[48;2;39;40;34m1.1.1\u001b[0m\u001b[48;2;39;40;34m                                                         \u001b[0m\r\n",
      "\u001b[38;2;248;248;242;48;2;39;40;34m  \u001b[0m\u001b[38;2;249;38;114;48;2;39;40;34mbentoml_version\u001b[0m\u001b[38;2;248;248;242;48;2;39;40;34m:\u001b[0m\u001b[38;2;248;248;242;48;2;39;40;34m \u001b[0m\u001b[48;2;39;40;34m1.0.7\u001b[0m\u001b[48;2;39;40;34m                                                        \u001b[0m\r\n",
      "\u001b[38;2;248;248;242;48;2;39;40;34m  \u001b[0m\u001b[38;2;249;38;114;48;2;39;40;34mpython_version\u001b[0m\u001b[38;2;248;248;242;48;2;39;40;34m:\u001b[0m\u001b[38;2;248;248;242;48;2;39;40;34m \u001b[0m\u001b[48;2;39;40;34m3.9.12\u001b[0m\u001b[48;2;39;40;34m                                                        \u001b[0m\r\n",
      "\u001b[38;2;249;38;114;48;2;39;40;34msignatures\u001b[0m\u001b[38;2;248;248;242;48;2;39;40;34m:\u001b[0m\u001b[48;2;39;40;34m                                                                     \u001b[0m\r\n",
      "\u001b[38;2;248;248;242;48;2;39;40;34m  \u001b[0m\u001b[38;2;249;38;114;48;2;39;40;34mpredict\u001b[0m\u001b[38;2;248;248;242;48;2;39;40;34m:\u001b[0m\u001b[48;2;39;40;34m                                                                      \u001b[0m\r\n",
      "\u001b[38;2;248;248;242;48;2;39;40;34m    \u001b[0m\u001b[38;2;249;38;114;48;2;39;40;34mbatchable\u001b[0m\u001b[38;2;248;248;242;48;2;39;40;34m:\u001b[0m\u001b[38;2;248;248;242;48;2;39;40;34m \u001b[0m\u001b[48;2;39;40;34mfalse\u001b[0m\u001b[48;2;39;40;34m                                                            \u001b[0m\r\n",
      "\u001b[38;2;249;38;114;48;2;39;40;34mapi_version\u001b[0m\u001b[38;2;248;248;242;48;2;39;40;34m:\u001b[0m\u001b[38;2;248;248;242;48;2;39;40;34m \u001b[0m\u001b[48;2;39;40;34mv1\u001b[0m\u001b[48;2;39;40;34m                                                                 \u001b[0m\r\n",
      "\u001b[38;2;249;38;114;48;2;39;40;34mcreation_time\u001b[0m\u001b[38;2;248;248;242;48;2;39;40;34m:\u001b[0m\u001b[38;2;248;248;242;48;2;39;40;34m \u001b[0m\u001b[38;2;230;219;116;48;2;39;40;34m'\u001b[0m\u001b[38;2;230;219;116;48;2;39;40;34m2022-10-13T20:42:14.411084+00:00\u001b[0m\u001b[38;2;230;219;116;48;2;39;40;34m'\u001b[0m\u001b[48;2;39;40;34m                               \u001b[0m\r\n",
      "\u001b[48;2;39;40;34m                                                                                \u001b[0m\r\n"
     ]
    }
   ],
   "source": [
    "!bentoml models get mlzoomcamp_homework:qtzdz3slg6mwwdu5"
   ]
  },
  {
   "cell_type": "markdown",
   "id": "757a641a",
   "metadata": {},
   "source": [
    "## Ans6:  model2"
   ]
  },
  {
   "cell_type": "markdown",
   "id": "4b1e19a3",
   "metadata": {},
   "source": [
    "## Question 7 (optional)\n",
    "\n",
    "Go to this Bento deployment of Stable Diffusion: http://54.176.205.174/ (or deploy it yourself)\n",
    "\n",
    "Use the txt2image endpoint and update the prompt to: \"A cartoon dragon with sunglasses\". \n",
    "Don't change the seed, it should be 0 by default\n",
    "\n",
    "What is the resulting image?\n",
    "\n",
    "### #1\n",
    "<img src=\"resources/dragon1.jpeg\">\n",
    "\n",
    "### #2 \n",
    "<img src=\"resources/dragon2.jpeg\">\n",
    "\n",
    "### #3 \n",
    "<img src=\"resources/dragon3.jpeg\">\n",
    "\n",
    "### #4\n",
    "<img src=\"resources/dragon4.jpeg\">\n"
   ]
  },
  {
   "cell_type": "code",
   "execution_count": null,
   "id": "2509413d",
   "metadata": {},
   "outputs": [],
   "source": []
  }
 ],
 "metadata": {
  "kernelspec": {
   "display_name": "Python 3 (ipykernel)",
   "language": "python",
   "name": "python3"
  },
  "language_info": {
   "codemirror_mode": {
    "name": "ipython",
    "version": 3
   },
   "file_extension": ".py",
   "mimetype": "text/x-python",
   "name": "python",
   "nbconvert_exporter": "python",
   "pygments_lexer": "ipython3",
   "version": "3.9.12"
  }
 },
 "nbformat": 4,
 "nbformat_minor": 5
}
