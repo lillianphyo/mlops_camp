{
 "cells": [
  {
   "cell_type": "code",
   "execution_count": 310,
   "id": "183c5304",
   "metadata": {},
   "outputs": [],
   "source": [
    "import pandas as pd\n",
    "import numpy as np\n",
    "\n",
    "import matplotlib.pyplot as plt\n",
    "import seaborn as sns\n",
    "\n",
    "%matplotlib inline"
   ]
  },
  {
   "cell_type": "code",
   "execution_count": 311,
   "id": "be4a2050",
   "metadata": {},
   "outputs": [
    {
     "name": "stdout",
     "output_type": "stream",
     "text": [
      "--2022-10-03 14:04:45--  https://raw.githubusercontent.com/alexeygrigorev/datasets/master/AER_credit_card_data.csv\n",
      "Resolving raw.githubusercontent.com (raw.githubusercontent.com)... 185.199.111.133, 185.199.109.133, 185.199.108.133, ...\n",
      "Connecting to raw.githubusercontent.com (raw.githubusercontent.com)|185.199.111.133|:443... connected.\n",
      "HTTP request sent, awaiting response... 200 OK\n",
      "Length: 73250 (72K) [text/plain]\n",
      "Saving to: ‘AER_credit_card_data.csv.1’\n",
      "\n",
      "AER_credit_card_dat 100%[===================>]  71.53K   175KB/s    in 0.4s    \n",
      "\n",
      "2022-10-03 14:04:46 (175 KB/s) - ‘AER_credit_card_data.csv.1’ saved [73250/73250]\n",
      "\n"
     ]
    }
   ],
   "source": [
    "!wget https://raw.githubusercontent.com/alexeygrigorev/datasets/master/AER_credit_card_data.csv"
   ]
  },
  {
   "cell_type": "code",
   "execution_count": 352,
   "id": "f5f50466",
   "metadata": {},
   "outputs": [],
   "source": [
    "df = pd.read_csv('AER_credit_card_data.csv')\n",
    "df.columns = df.columns.str.lower()"
   ]
  },
  {
   "cell_type": "code",
   "execution_count": 353,
   "id": "f12c3924",
   "metadata": {},
   "outputs": [],
   "source": [
    "df['card'] = df.card.map(lambda x : 1 if x=='yes' else 0)"
   ]
  },
  {
   "cell_type": "code",
   "execution_count": 354,
   "id": "4eff391a",
   "metadata": {},
   "outputs": [
    {
     "data": {
      "text/html": [
       "<div>\n",
       "<style scoped>\n",
       "    .dataframe tbody tr th:only-of-type {\n",
       "        vertical-align: middle;\n",
       "    }\n",
       "\n",
       "    .dataframe tbody tr th {\n",
       "        vertical-align: top;\n",
       "    }\n",
       "\n",
       "    .dataframe thead th {\n",
       "        text-align: right;\n",
       "    }\n",
       "</style>\n",
       "<table border=\"1\" class=\"dataframe\">\n",
       "  <thead>\n",
       "    <tr style=\"text-align: right;\">\n",
       "      <th></th>\n",
       "      <th>card</th>\n",
       "      <th>reports</th>\n",
       "      <th>age</th>\n",
       "      <th>income</th>\n",
       "      <th>share</th>\n",
       "      <th>expenditure</th>\n",
       "      <th>owner</th>\n",
       "      <th>selfemp</th>\n",
       "      <th>dependents</th>\n",
       "      <th>months</th>\n",
       "      <th>majorcards</th>\n",
       "      <th>active</th>\n",
       "    </tr>\n",
       "  </thead>\n",
       "  <tbody>\n",
       "    <tr>\n",
       "      <th>0</th>\n",
       "      <td>1</td>\n",
       "      <td>0</td>\n",
       "      <td>37.66667</td>\n",
       "      <td>4.5200</td>\n",
       "      <td>0.033270</td>\n",
       "      <td>124.983300</td>\n",
       "      <td>yes</td>\n",
       "      <td>no</td>\n",
       "      <td>3</td>\n",
       "      <td>54</td>\n",
       "      <td>1</td>\n",
       "      <td>12</td>\n",
       "    </tr>\n",
       "    <tr>\n",
       "      <th>1</th>\n",
       "      <td>1</td>\n",
       "      <td>0</td>\n",
       "      <td>33.25000</td>\n",
       "      <td>2.4200</td>\n",
       "      <td>0.005217</td>\n",
       "      <td>9.854167</td>\n",
       "      <td>no</td>\n",
       "      <td>no</td>\n",
       "      <td>3</td>\n",
       "      <td>34</td>\n",
       "      <td>1</td>\n",
       "      <td>13</td>\n",
       "    </tr>\n",
       "    <tr>\n",
       "      <th>2</th>\n",
       "      <td>1</td>\n",
       "      <td>0</td>\n",
       "      <td>33.66667</td>\n",
       "      <td>4.5000</td>\n",
       "      <td>0.004156</td>\n",
       "      <td>15.000000</td>\n",
       "      <td>yes</td>\n",
       "      <td>no</td>\n",
       "      <td>4</td>\n",
       "      <td>58</td>\n",
       "      <td>1</td>\n",
       "      <td>5</td>\n",
       "    </tr>\n",
       "    <tr>\n",
       "      <th>3</th>\n",
       "      <td>1</td>\n",
       "      <td>0</td>\n",
       "      <td>30.50000</td>\n",
       "      <td>2.5400</td>\n",
       "      <td>0.065214</td>\n",
       "      <td>137.869200</td>\n",
       "      <td>no</td>\n",
       "      <td>no</td>\n",
       "      <td>0</td>\n",
       "      <td>25</td>\n",
       "      <td>1</td>\n",
       "      <td>7</td>\n",
       "    </tr>\n",
       "    <tr>\n",
       "      <th>4</th>\n",
       "      <td>1</td>\n",
       "      <td>0</td>\n",
       "      <td>32.16667</td>\n",
       "      <td>9.7867</td>\n",
       "      <td>0.067051</td>\n",
       "      <td>546.503300</td>\n",
       "      <td>yes</td>\n",
       "      <td>no</td>\n",
       "      <td>2</td>\n",
       "      <td>64</td>\n",
       "      <td>1</td>\n",
       "      <td>5</td>\n",
       "    </tr>\n",
       "  </tbody>\n",
       "</table>\n",
       "</div>"
      ],
      "text/plain": [
       "   card  reports       age  income     share  expenditure owner selfemp  \\\n",
       "0     1        0  37.66667  4.5200  0.033270   124.983300   yes      no   \n",
       "1     1        0  33.25000  2.4200  0.005217     9.854167    no      no   \n",
       "2     1        0  33.66667  4.5000  0.004156    15.000000   yes      no   \n",
       "3     1        0  30.50000  2.5400  0.065214   137.869200    no      no   \n",
       "4     1        0  32.16667  9.7867  0.067051   546.503300   yes      no   \n",
       "\n",
       "   dependents  months  majorcards  active  \n",
       "0           3      54           1      12  \n",
       "1           3      34           1      13  \n",
       "2           4      58           1       5  \n",
       "3           0      25           1       7  \n",
       "4           2      64           1       5  "
      ]
     },
     "execution_count": 354,
     "metadata": {},
     "output_type": "execute_result"
    }
   ],
   "source": [
    "df.head()"
   ]
  },
  {
   "cell_type": "code",
   "execution_count": 355,
   "id": "b7d6ff80",
   "metadata": {},
   "outputs": [],
   "source": [
    "numerical = ['reports','age','income','share','expenditure','dependents','months','majorcards','active']\n",
    "categorical = ['card','owner','selfemp']"
   ]
  },
  {
   "cell_type": "code",
   "execution_count": 362,
   "id": "bcafd3ca",
   "metadata": {},
   "outputs": [],
   "source": [
    "from sklearn.model_selection import train_test_split"
   ]
  },
  {
   "cell_type": "code",
   "execution_count": 363,
   "id": "9631fced",
   "metadata": {},
   "outputs": [],
   "source": [
    "df_full_train, df_test = train_test_split(df, test_size=0.2, random_state=1)\n",
    "df_train, df_val = train_test_split(df_full_train, test_size=0.25, random_state=1)"
   ]
  },
  {
   "cell_type": "markdown",
   "id": "7460e925",
   "metadata": {},
   "source": [
    "## Question 1\n",
    "\n",
    "ROC AUC could also be used to evaluate feature importance of numerical variables.\n",
    "\n",
    "Let's do that\n",
    "\n",
    "    For each numerical variable, use it as score and compute AUC with the card variable.\n",
    "    Use the training dataset for that.\n",
    "\n",
    "If your AUC is < 0.5, invert this variable by putting \"-\" in front\n",
    "\n",
    "(e.g. -df_train['expenditure'])\n",
    "\n",
    "AUC can go below 0.5 if the variable is negatively correlated with the target varialble. You can change the direction of the correlation by negating this variable - then negative correlation becomes positive.\n",
    "\n",
    "Which numerical variable (among the following 4) has the highest AUC?\n",
    "\n",
    "    reports\n",
    "    dependents\n",
    "    active\n",
    "    share\n"
   ]
  },
  {
   "cell_type": "code",
   "execution_count": 364,
   "id": "ad8fa8a9",
   "metadata": {},
   "outputs": [],
   "source": [
    "from sklearn.metrics import roc_auc_score\n",
    "from sklearn.metrics import roc_curve"
   ]
  },
  {
   "cell_type": "code",
   "execution_count": 365,
   "id": "ecd9de3a",
   "metadata": {},
   "outputs": [
    {
     "name": "stdout",
     "output_type": "stream",
     "text": [
      "  reports, 0.717\n",
      "      age, 0.524\n",
      "   income, 0.591\n",
      "    share, 0.989\n",
      "expenditure, 0.991\n",
      "dependents, 0.533\n",
      "   months, 0.529\n",
      "majorcards, 0.534\n",
      "   active, 0.604\n"
     ]
    }
   ],
   "source": [
    "for c in numerical:\n",
    "    auc = roc_auc_score(y_train, df_train[c])\n",
    "    if auc < 0.5:\n",
    "        auc = roc_auc_score(y_train, -df_train[c])\n",
    "    print('%9s, %.3f' % (c, auc))"
   ]
  },
  {
   "cell_type": "markdown",
   "id": "ca1da418",
   "metadata": {},
   "source": [
    "Answer1: share"
   ]
  },
  {
   "cell_type": "code",
   "execution_count": 367,
   "id": "db765013",
   "metadata": {},
   "outputs": [
    {
     "data": {
      "image/png": "[encoded data removed]",
      "text/plain": [
       "<Figure size 500x500 with 1 Axes>"
      ]
     },
     "metadata": {},
     "output_type": "display_data"
    }
   ],
   "source": [
    "plt.figure(figsize=(5, 5))\n",
    "\n",
    "fpr, tpr, _ = roc_curve(y_train, df_train.reports)\n",
    "plt.plot(fpr, tpr, label='+reports')\n",
    "\n",
    "fpr, tpr, _ = roc_curve(y_train, -df_train.reports)\n",
    "plt.plot(fpr, tpr, label='-reports')\n",
    "\n",
    "plt.plot([0, 1], [0, 1], color='grey', linestyle='--')\n",
    "\n",
    "plt.legend()\n",
    "plt.show()"
   ]
  },
  {
   "cell_type": "code",
   "execution_count": 368,
   "id": "c3bf2274",
   "metadata": {},
   "outputs": [
    {
     "data": {
      "image/png": "[encoded data removed]",
      "text/plain": [
       "<Figure size 640x480 with 1 Axes>"
      ]
     },
     "metadata": {},
     "output_type": "display_data"
    }
   ],
   "source": [
    "sns.histplot(df_train.reports[y_train == 1],\n",
    "             stat='density', bins=50,\n",
    "             color='orange', alpha=0.5,\n",
    "             label='positive')\n",
    "sns.histplot(df_train.reports[y_train == 0],\n",
    "             stat='density', bins=50,\n",
    "             color='blue', alpha=0.5,\n",
    "             label='negative')\n",
    "\n",
    "plt.legend()\n",
    "plt.show()"
   ]
  },
  {
   "cell_type": "code",
   "execution_count": 369,
   "id": "172f893c",
   "metadata": {},
   "outputs": [
    {
     "data": {
      "image/png": "[encoded data removed]",
      "text/plain": [
       "<Figure size 640x480 with 1 Axes>"
      ]
     },
     "metadata": {},
     "output_type": "display_data"
    }
   ],
   "source": [
    "sns.histplot(-df_train.reports[y_train == 1],\n",
    "             stat='density', bins=50,\n",
    "             color='orange', alpha=0.5,\n",
    "             label='positive')\n",
    "sns.histplot(-df_train.reports[y_train == 0],\n",
    "             stat='density', bins=50,\n",
    "             color='blue', alpha=0.5,\n",
    "             label='negative')\n",
    "\n",
    "plt.legend()\n",
    "plt.show()"
   ]
  },
  {
   "cell_type": "code",
   "execution_count": 370,
   "id": "00aa72b5",
   "metadata": {},
   "outputs": [],
   "source": [
    "from sklearn.feature_extraction import DictVectorizer\n",
    "from sklearn.linear_model import LogisticRegression"
   ]
  },
  {
   "cell_type": "code",
   "execution_count": 371,
   "id": "0af3f0d9",
   "metadata": {},
   "outputs": [],
   "source": [
    "columns = [\"reports\", \"age\", \"income\", \"share\", \"expenditure\", \"dependents\", \"months\", \"majorcards\", \"active\", \"owner\", \"selfemp\"]"
   ]
  },
  {
   "cell_type": "code",
   "execution_count": 372,
   "id": "11543d3e",
   "metadata": {},
   "outputs": [
    {
     "data": {
      "text/html": [
       "<div>\n",
       "<style scoped>\n",
       "    .dataframe tbody tr th:only-of-type {\n",
       "        vertical-align: middle;\n",
       "    }\n",
       "\n",
       "    .dataframe tbody tr th {\n",
       "        vertical-align: top;\n",
       "    }\n",
       "\n",
       "    .dataframe thead th {\n",
       "        text-align: right;\n",
       "    }\n",
       "</style>\n",
       "<table border=\"1\" class=\"dataframe\">\n",
       "  <thead>\n",
       "    <tr style=\"text-align: right;\">\n",
       "      <th></th>\n",
       "      <th>card</th>\n",
       "      <th>reports</th>\n",
       "      <th>age</th>\n",
       "      <th>income</th>\n",
       "      <th>share</th>\n",
       "      <th>expenditure</th>\n",
       "      <th>owner</th>\n",
       "      <th>selfemp</th>\n",
       "      <th>dependents</th>\n",
       "      <th>months</th>\n",
       "      <th>majorcards</th>\n",
       "      <th>active</th>\n",
       "    </tr>\n",
       "  </thead>\n",
       "  <tbody>\n",
       "    <tr>\n",
       "      <th>0</th>\n",
       "      <td>1</td>\n",
       "      <td>0</td>\n",
       "      <td>37.66667</td>\n",
       "      <td>4.5200</td>\n",
       "      <td>0.033270</td>\n",
       "      <td>124.983300</td>\n",
       "      <td>yes</td>\n",
       "      <td>no</td>\n",
       "      <td>3</td>\n",
       "      <td>54</td>\n",
       "      <td>1</td>\n",
       "      <td>12</td>\n",
       "    </tr>\n",
       "    <tr>\n",
       "      <th>1</th>\n",
       "      <td>1</td>\n",
       "      <td>0</td>\n",
       "      <td>33.25000</td>\n",
       "      <td>2.4200</td>\n",
       "      <td>0.005217</td>\n",
       "      <td>9.854167</td>\n",
       "      <td>no</td>\n",
       "      <td>no</td>\n",
       "      <td>3</td>\n",
       "      <td>34</td>\n",
       "      <td>1</td>\n",
       "      <td>13</td>\n",
       "    </tr>\n",
       "    <tr>\n",
       "      <th>2</th>\n",
       "      <td>1</td>\n",
       "      <td>0</td>\n",
       "      <td>33.66667</td>\n",
       "      <td>4.5000</td>\n",
       "      <td>0.004156</td>\n",
       "      <td>15.000000</td>\n",
       "      <td>yes</td>\n",
       "      <td>no</td>\n",
       "      <td>4</td>\n",
       "      <td>58</td>\n",
       "      <td>1</td>\n",
       "      <td>5</td>\n",
       "    </tr>\n",
       "    <tr>\n",
       "      <th>3</th>\n",
       "      <td>1</td>\n",
       "      <td>0</td>\n",
       "      <td>30.50000</td>\n",
       "      <td>2.5400</td>\n",
       "      <td>0.065214</td>\n",
       "      <td>137.869200</td>\n",
       "      <td>no</td>\n",
       "      <td>no</td>\n",
       "      <td>0</td>\n",
       "      <td>25</td>\n",
       "      <td>1</td>\n",
       "      <td>7</td>\n",
       "    </tr>\n",
       "    <tr>\n",
       "      <th>4</th>\n",
       "      <td>1</td>\n",
       "      <td>0</td>\n",
       "      <td>32.16667</td>\n",
       "      <td>9.7867</td>\n",
       "      <td>0.067051</td>\n",
       "      <td>546.503300</td>\n",
       "      <td>yes</td>\n",
       "      <td>no</td>\n",
       "      <td>2</td>\n",
       "      <td>64</td>\n",
       "      <td>1</td>\n",
       "      <td>5</td>\n",
       "    </tr>\n",
       "  </tbody>\n",
       "</table>\n",
       "</div>"
      ],
      "text/plain": [
       "   card  reports       age  income     share  expenditure owner selfemp  \\\n",
       "0     1        0  37.66667  4.5200  0.033270   124.983300   yes      no   \n",
       "1     1        0  33.25000  2.4200  0.005217     9.854167    no      no   \n",
       "2     1        0  33.66667  4.5000  0.004156    15.000000   yes      no   \n",
       "3     1        0  30.50000  2.5400  0.065214   137.869200    no      no   \n",
       "4     1        0  32.16667  9.7867  0.067051   546.503300   yes      no   \n",
       "\n",
       "   dependents  months  majorcards  active  \n",
       "0           3      54           1      12  \n",
       "1           3      34           1      13  \n",
       "2           4      58           1       5  \n",
       "3           0      25           1       7  \n",
       "4           2      64           1       5  "
      ]
     },
     "execution_count": 372,
     "metadata": {},
     "output_type": "execute_result"
    }
   ],
   "source": [
    "def OH_encoder(data):\n",
    "\n",
    "    dv = DictVectorizer(sparse=False)\n",
    "    dicts = data[features].to_dict(orient='records')\n",
    "    data_transform = dv.fit_transform(dicts)\n",
    "\n",
    "    return data_transform\n",
    "\n",
    "X_train = OH_encoder(df_train)\n",
    "y_train = df_train.card.values\n",
    "\n",
    "\n",
    "model = LogisticRegression(solver='liblinear', C=1.0, max_iter=1000)\n",
    "model.fit(X_train, y_train)\n",
    "\n",
    "X_val = OH_encoder(df_val)\n",
    "y_val = df_val.card.values\n",
    "\n",
    "y_pred = model.predict_proba(X_val)[:, 1]\n",
    "\n",
    "df.head()"
   ]
  },
  {
   "cell_type": "markdown",
   "id": "9fd9e9ea",
   "metadata": {},
   "source": [
    "## Question 2\n",
    "\n",
    "What's the AUC of this model on the validation dataset? (round to 3 digits)\n",
    "\n",
    "    0.615\n",
    "    0.515\n",
    "    0.715\n",
    "    0.995\n"
   ]
  },
  {
   "cell_type": "code",
   "execution_count": 373,
   "id": "ddad67e8",
   "metadata": {},
   "outputs": [
    {
     "data": {
      "text/plain": [
       "0.995171242063847"
      ]
     },
     "execution_count": 373,
     "metadata": {},
     "output_type": "execute_result"
    }
   ],
   "source": [
    "roc_auc_score(y_val, y_pred)"
   ]
  },
  {
   "cell_type": "markdown",
   "id": "0c6cd002",
   "metadata": {},
   "source": [
    "Answer2: 0.995"
   ]
  },
  {
   "cell_type": "code",
   "execution_count": 374,
   "id": "ed091fa7",
   "metadata": {},
   "outputs": [
    {
     "data": {
      "text/plain": [
       "0.9739783600107306"
      ]
     },
     "execution_count": 374,
     "metadata": {},
     "output_type": "execute_result"
    }
   ],
   "source": [
    "y_pred_bin = model.predict(X_val)\n",
    "roc_auc_score(y_val, y_pred_bin)"
   ]
  },
  {
   "cell_type": "code",
   "execution_count": 375,
   "id": "84207ec8",
   "metadata": {},
   "outputs": [
    {
     "data": {
      "image/png": "[encoded data removed]",
      "text/plain": [
       "<Figure size 500x500 with 1 Axes>"
      ]
     },
     "metadata": {},
     "output_type": "display_data"
    }
   ],
   "source": [
    "plt.figure(figsize=(5, 5))\n",
    "\n",
    "fpr, tpr, _ = roc_curve(y_val, y_pred)\n",
    "plt.plot(fpr, tpr, label='probability')\n",
    "\n",
    "fpr, tpr, _ = roc_curve(y_val, y_pred_bin)\n",
    "plt.plot(fpr, tpr, label='hard prediction')\n",
    "\n",
    "plt.plot([0, 1], [0, 1], color='grey', linestyle='--')\n",
    "\n",
    "plt.legend()\n",
    "plt.show()"
   ]
  },
  {
   "cell_type": "markdown",
   "id": "d9bd8fa5",
   "metadata": {},
   "source": [
    "## Question 3\n",
    "\n",
    "Now let's compute precision and recall for our model.\n",
    "\n",
    "    Evaluate the model on the validation dataset on all thresholds from 0.0 to 1.0 with step 0.01\n",
    "    For each threshold, compute precision and recall\n",
    "    Plot them\n",
    "\n",
    "At which threshold precision and recall curves intersect?\n",
    "\n",
    "    0.1\n",
    "    0.3\n",
    "    0.6\n",
    "    0.8\n"
   ]
  },
  {
   "cell_type": "code",
   "execution_count": 376,
   "id": "997098a5",
   "metadata": {},
   "outputs": [],
   "source": [
    "actual_positive = (y_val == 1)\n",
    "actual_negative = (y_val == 0)\n",
    "\n",
    "thresholds = np.arange(0.0, 1.0, 0.01)\n",
    "precisions, recalls = [], []\n",
    "\n",
    "for t in thresholds:\n",
    "    y_predicts = (y_pred >= t).astype(int)\n",
    "\n",
    "    predicted_positive = (y_predicts == 1)\n",
    "    predicted_negative = (y_predicts == 0)\n",
    "\n",
    "    tp = (actual_positive & predicted_positive).sum()\n",
    "    tn = (actual_negative & predicted_negative).sum()\n",
    "\n",
    "    fp = (actual_negative & predicted_positive).sum()\n",
    "    fn = (actual_positive & predicted_negative).sum()\n",
    "\n",
    "    p = tp / (tp + fp)\n",
    "    r = tp / (tp + fn)\n",
    "\n",
    "    precisions.append(p)\n",
    "    recalls.append(r)"
   ]
  },
  {
   "cell_type": "code",
   "execution_count": 377,
   "id": "9e0afd51",
   "metadata": {},
   "outputs": [
    {
     "data": {
      "image/png": "[encoded data removed]",
      "text/plain": [
       "<Figure size 640x480 with 1 Axes>"
      ]
     },
     "metadata": {},
     "output_type": "display_data"
    }
   ],
   "source": [
    "plt.plot(thresholds, precisions, label='Precision')\n",
    "plt.plot(thresholds, recalls, label='Recall')\n",
    "\n",
    "plt.xlabel(\"Threshold\")\n",
    "plt.ylabel(\"score\")\n",
    "plt.title(\"Precision-recall curve\")\n",
    "\n",
    "plt.legend()\n",
    "plt.show()"
   ]
  },
  {
   "cell_type": "markdown",
   "id": "f0dfb2a3",
   "metadata": {},
   "source": [
    "Answer3: 0.3"
   ]
  },
  {
   "cell_type": "markdown",
   "id": "3f3f8f80",
   "metadata": {},
   "source": [
    "## Question 4\n",
    "\n",
    "Precision and recall are conflicting - when one grows, the other goes down. That's why they are often combined into the F1 score - a metrics that takes into account both\n",
    "\n",
    "This is the formula for computing $F_1$:\n",
    "\n",
    "$$F_1 = 2 \\cdot \\cfrac{P \\cdot R}{P + R}$$\n",
    "\n",
    "Where $P$ is precision and $R$ is recall.\n",
    "\n",
    "Let's compute F1 for all thresholds from 0.0 to 1.0 with increment 0.01 using the validation set\n",
    "\n",
    "At which threshold F1 is maximal?\n",
    "\n",
    "- 0.1\n",
    "- 0.4\n",
    "- 0.6\n",
    "- 0.7\n"
   ]
  },
  {
   "cell_type": "code",
   "execution_count": 378,
   "id": "07b88dde",
   "metadata": {},
   "outputs": [],
   "source": [
    "thresholds = np.arange(0.0, 1.0, 0.01)\n",
    "f1_score = []\n",
    "\n",
    "for t in thresholds:\n",
    "    y_predicts = (y_pred >= t).astype(int)\n",
    "\n",
    "    predicted_positive = (y_predicts == 1)\n",
    "    predicted_negative = (y_predicts == 0)\n",
    "\n",
    "    tp = (actual_positive & predicted_positive).sum()\n",
    "    tn = (actual_negative & predicted_negative).sum()\n",
    "\n",
    "    fp = (actual_negative & predicted_positive).sum()\n",
    "    fn = (actual_positive & predicted_negative).sum()\n",
    "\n",
    "    precision = tp / (tp + fp)\n",
    "    recall = tp / (tp + fn)\n",
    "\n",
    "    score = (2 * precision * recall) / (precision + recall)\n",
    "    f1_score.append(score)"
   ]
  },
  {
   "cell_type": "code",
   "execution_count": 379,
   "id": "32daf30b",
   "metadata": {},
   "outputs": [
    {
     "data": {
      "image/png": "[encoded data removed]",
      "text/plain": [
       "<Figure size 960x400 with 1 Axes>"
      ]
     },
     "metadata": {},
     "output_type": "display_data"
    }
   ],
   "source": [
    "plt.figure(figsize=(12, 5), dpi=80)\n",
    "plt.plot(thresholds, f1_score, label='f1-score')\n",
    "\n",
    "plt.xlabel(\"Threshold\")\n",
    "plt.ylabel(\"score\")\n",
    "\n",
    "plt.legend()\n",
    "plt.show()"
   ]
  },
  {
   "cell_type": "markdown",
   "id": "e4a2a839",
   "metadata": {},
   "source": [
    "Answer4: 0.4"
   ]
  },
  {
   "cell_type": "markdown",
   "id": "0a7087ed",
   "metadata": {},
   "source": [
    "## Question 5\n",
    "\n",
    "Use the `KFold` class from Scikit-Learn to evaluate our model on 5 different folds:\n",
    "\n",
    "```\n",
    "KFold(n_splits=5, shuffle=True, random_state=1)\n",
    "```\n",
    "\n",
    "* Iterate over different folds of `df_full_train`\n",
    "* Split the data into train and validation\n",
    "* Train the model on train with these parameters: `LogisticRegression(solver='liblinear', C=1.0, max_iter=1000)`\n",
    "* Use AUC to evaluate the model on validation\n",
    "\n",
    "\n",
    "How large is standard devidation of the AUC scores across different folds?\n",
    "\n",
    "- 0.003\n",
    "- 0.014\n",
    "- 0.09\n",
    "- 0.24"
   ]
  },
  {
   "cell_type": "code",
   "execution_count": 385,
   "id": "2e6284f2",
   "metadata": {},
   "outputs": [
    {
     "name": "stdout",
     "output_type": "stream",
     "text": [
      "Mean: 0.983349, std: 0.011596\n"
     ]
    }
   ],
   "source": [
    "from sklearn.model_selection import KFold\n",
    "\n",
    "kfold = KFold(n_splits=5, shuffle=True, random_state=1)\n",
    "scores = []\n",
    "\n",
    "for train_idx, val_idx in kfold.split(df_full_train):\n",
    "\n",
    "    df_train = df_full_train.iloc[train_idx]\n",
    "    df_val = df_full_train.iloc[val_idx]\n",
    "\n",
    "    # data preparation\n",
    "    X_train = OH_encoder(df_train)\n",
    "    y_train = df_train.card.values \n",
    "\n",
    "    X_val = OH_encoder(df_val)\n",
    "    y_val = df_val.card.values \n",
    "\n",
    "    # train a model\n",
    "    model = LogisticRegression(solver='liblinear', C=1.0, max_iter=1000)\n",
    "    model.fit(X_train, y_train)\n",
    "\n",
    "    # predict the output\n",
    "    y_preds = model.predict(X_val)\n",
    "\n",
    "    # model evaluation\n",
    "    auc = roc_auc_score(y_val, y_preds) \n",
    "    scores.append(auc)\n",
    "\n",
    "print(\"Mean: %f, std: %f\" %(np.mean(scores), np.std(scores)))"
   ]
  },
  {
   "cell_type": "markdown",
   "id": "e77412f8",
   "metadata": {},
   "source": [
    "Answer5: 0.014"
   ]
  },
  {
   "cell_type": "markdown",
   "id": "19d09119",
   "metadata": {},
   "source": [
    "\n",
    "## Question 6\n",
    "\n",
    "Now let's use 5-Fold cross-validation to find the best parameter C\n",
    "\n",
    "* Iterate over the following C values: `[0.01, 0.1, 1, 10]`\n",
    "* Initialize `KFold` with the same parameters as previously\n",
    "* Use these parametes for the model: `LogisticRegression(solver='liblinear', C=C, max_iter=1000)`\n",
    "* Compute the mean score as well as the std (round the mean and std to 3 decimal digits)\n",
    "\n",
    "\n",
    "Which C leads to the best mean score?\n",
    "\n",
    "- 0.01\n",
    "- 0.1\n",
    "- 1\n",
    "- 10"
   ]
  },
  {
   "cell_type": "code",
   "execution_count": 386,
   "id": "978937c1",
   "metadata": {},
   "outputs": [],
   "source": [
    "c = {}\n",
    "for C in [0.01, 0.1, 1, 10]:\n",
    "\n",
    "    kfold = KFold(n_splits=5, shuffle=True, random_state=1)\n",
    "    scores = []\n",
    "    \n",
    "    for train_idx, val_idx in kfold.split(df_full_train):\n",
    "        df_train = df_full_train.iloc[train_idx]\n",
    "        df_val = df_full_train.iloc[val_idx]\n",
    "\n",
    "        X_train = OH_encoder(df_train)\n",
    "        y_train = df_train.card.values \n",
    "\n",
    "        X_val = OH_encoder(df_val)\n",
    "        y_val = df_val.card.values \n",
    "\n",
    "        model = LogisticRegression(solver='liblinear', C=C, max_iter=1000)\n",
    "        model.fit(X_train, y_train)\n",
    "\n",
    "        y_preds = model.predict(X_val)\n",
    "\n",
    "        auc = roc_auc_score(y_val, y_preds) \n",
    "        scores.append(auc)\n",
    "\n",
    "    c[C] = round(np.mean(scores)), round(np.std(scores), 3)"
   ]
  },
  {
   "cell_type": "code",
   "execution_count": 387,
   "id": "de986509",
   "metadata": {},
   "outputs": [
    {
     "data": {
      "text/html": [
       "<style type=\"text/css\">\n",
       "#T_29cfd_row0_col1 {\n",
       "  background-color: orange;\n",
       "}\n",
       "</style>\n",
       "<table id=\"T_29cfd\">\n",
       "  <thead>\n",
       "    <tr>\n",
       "      <th class=\"blank level0\" >&nbsp;</th>\n",
       "      <th id=\"T_29cfd_level0_col0\" class=\"col_heading level0 col0\" >mean</th>\n",
       "      <th id=\"T_29cfd_level0_col1\" class=\"col_heading level0 col1\" >std</th>\n",
       "    </tr>\n",
       "  </thead>\n",
       "  <tbody>\n",
       "    <tr>\n",
       "      <th id=\"T_29cfd_level0_row0\" class=\"row_heading level0 row0\" >0.010000</th>\n",
       "      <td id=\"T_29cfd_row0_col0\" class=\"data row0 col0\" >1</td>\n",
       "      <td id=\"T_29cfd_row0_col1\" class=\"data row0 col1\" >0.007000</td>\n",
       "    </tr>\n",
       "    <tr>\n",
       "      <th id=\"T_29cfd_level0_row1\" class=\"row_heading level0 row1\" >0.100000</th>\n",
       "      <td id=\"T_29cfd_row1_col0\" class=\"data row1 col0\" >1</td>\n",
       "      <td id=\"T_29cfd_row1_col1\" class=\"data row1 col1\" >0.010000</td>\n",
       "    </tr>\n",
       "    <tr>\n",
       "      <th id=\"T_29cfd_level0_row2\" class=\"row_heading level0 row2\" >1.000000</th>\n",
       "      <td id=\"T_29cfd_row2_col0\" class=\"data row2 col0\" >1</td>\n",
       "      <td id=\"T_29cfd_row2_col1\" class=\"data row2 col1\" >0.012000</td>\n",
       "    </tr>\n",
       "    <tr>\n",
       "      <th id=\"T_29cfd_level0_row3\" class=\"row_heading level0 row3\" >10.000000</th>\n",
       "      <td id=\"T_29cfd_row3_col0\" class=\"data row3 col0\" >1</td>\n",
       "      <td id=\"T_29cfd_row3_col1\" class=\"data row3 col1\" >0.014000</td>\n",
       "    </tr>\n",
       "  </tbody>\n",
       "</table>\n"
      ],
      "text/plain": [
       "<pandas.io.formats.style.Styler at 0x7f96cf048850>"
      ]
     },
     "execution_count": 387,
     "metadata": {},
     "output_type": "execute_result"
    }
   ],
   "source": [
    "score_df = pd.DataFrame(data=c.values(), index=c.keys(), columns=['mean', 'std'])\n",
    "score_df.style.highlight_min(subset=['std'], color='orange', axis=0)"
   ]
  },
  {
   "cell_type": "markdown",
   "id": "5f9ae9cf",
   "metadata": {},
   "source": [
    "Answer6: 0.01"
   ]
  },
  {
   "cell_type": "code",
   "execution_count": null,
   "id": "ad2e16e1",
   "metadata": {},
   "outputs": [],
   "source": []
  }
 ],
 "metadata": {
  "kernelspec": {
   "display_name": "Python 3 (ipykernel)",
   "language": "python",
   "name": "python3"
  },
  "language_info": {
   "codemirror_mode": {
    "name": "ipython",
    "version": 3
   },
   "file_extension": ".py",
   "mimetype": "text/x-python",
   "name": "python",
   "nbconvert_exporter": "python",
   "pygments_lexer": "ipython3",
   "version": "3.10.6"
  }
 },
 "nbformat": 4,
 "nbformat_minor": 5
}
