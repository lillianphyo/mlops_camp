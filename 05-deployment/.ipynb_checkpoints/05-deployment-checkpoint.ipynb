{
 "cells": [
  {
   "cell_type": "code",
   "execution_count": 1,
   "id": "b88c1cac",
   "metadata": {},
   "outputs": [
    {
     "name": "stdout",
     "output_type": "stream",
     "text": [
      "Collecting pipenv\n",
      "  Downloading pipenv-2022.10.9-py2.py3-none-any.whl (3.3 MB)\n",
      "\u001b[2K     \u001b[38;2;114;156;31m━━━━━━━━━━━━━━━━━━━━━━━━━━━━━━━━━━━━━━━━\u001b[0m \u001b[32m3.3/3.3 MB\u001b[0m \u001b[31m2.2 MB/s\u001b[0m eta \u001b[36m0:00:00\u001b[0mm eta \u001b[36m0:00:01\u001b[0m0:01\u001b[0m:01\u001b[0m\n",
      "\u001b[?25hRequirement already satisfied: setuptools>=36.2.1 in /home/lillian/workme/me/mlops_camp/mlops_camp/lib/python3.10/site-packages (from pipenv) (59.6.0)\n",
      "Collecting virtualenv-clone>=0.2.5\n",
      "  Downloading virtualenv_clone-0.5.7-py3-none-any.whl (6.6 kB)\n",
      "Collecting virtualenv\n",
      "  Downloading virtualenv-20.16.5-py3-none-any.whl (8.8 MB)\n",
      "\u001b[2K     \u001b[38;2;114;156;31m━━━━━━━━━━━━━━━━━━━━━━━━━━━━━━━━━━━━━━━━\u001b[0m \u001b[32m8.8/8.8 MB\u001b[0m \u001b[31m4.3 MB/s\u001b[0m eta \u001b[36m0:00:00\u001b[0mm eta \u001b[36m0:00:01\u001b[0m[36m0:00:01\u001b[0m\n",
      "\u001b[?25hCollecting certifi\n",
      "  Downloading certifi-2022.9.24-py3-none-any.whl (161 kB)\n",
      "\u001b[2K     \u001b[38;2;114;156;31m━━━━━━━━━━━━━━━━━━━━━━━━━━━━━━━━━━━━━━━\u001b[0m \u001b[32m161.1/161.1 KB\u001b[0m \u001b[31m6.1 MB/s\u001b[0m eta \u001b[36m0:00:00\u001b[0m\n",
      "\u001b[?25hCollecting filelock<4,>=3.4.1\n",
      "  Downloading filelock-3.8.0-py3-none-any.whl (10 kB)\n",
      "Collecting platformdirs<3,>=2.4\n",
      "  Downloading platformdirs-2.5.2-py3-none-any.whl (14 kB)\n",
      "Collecting distlib<1,>=0.3.5\n",
      "  Downloading distlib-0.3.6-py2.py3-none-any.whl (468 kB)\n",
      "\u001b[2K     \u001b[38;2;114;156;31m━━━━━━━━━━━━━━━━━━━━━━━━━━━━━━━━━━━━━━━\u001b[0m \u001b[32m468.5/468.5 KB\u001b[0m \u001b[31m5.7 MB/s\u001b[0m eta \u001b[36m0:00:00\u001b[0m[31m6.5 MB/s\u001b[0m eta \u001b[36m0:00:01\u001b[0m\n",
      "\u001b[?25hInstalling collected packages: distlib, virtualenv-clone, platformdirs, filelock, certifi, virtualenv, pipenv\n",
      "Successfully installed certifi-2022.9.24 distlib-0.3.6 filelock-3.8.0 pipenv-2022.10.9 platformdirs-2.5.2 virtualenv-20.16.5 virtualenv-clone-0.5.7\n"
     ]
    }
   ],
   "source": [
    "!pip install pipenv"
   ]
  },
  {
   "cell_type": "markdown",
   "id": "a36e4933",
   "metadata": {},
   "source": [
    "Question 1: Version of Pipenv"
   ]
  },
  {
   "cell_type": "code",
   "execution_count": 16,
   "id": "a7c78356",
   "metadata": {},
   "outputs": [
    {
     "name": "stdout",
     "output_type": "stream",
     "text": [
      "\u001b[1mpipenv\u001b[0m, version 2022.10.9\n",
      "\u001b[0m"
     ]
    }
   ],
   "source": [
    "!pipenv --version"
   ]
  },
  {
   "cell_type": "markdown",
   "id": "87b709cb",
   "metadata": {},
   "source": [
    "Ans1: 2022.10.9"
   ]
  },
  {
   "cell_type": "markdown",
   "id": "668fbcfc",
   "metadata": {},
   "source": [
    "Question 2: Checksum for Scikit-Learn 1.0.2"
   ]
  },
  {
   "cell_type": "code",
   "execution_count": 17,
   "id": "4f054814",
   "metadata": {},
   "outputs": [
    {
     "name": "stdout",
     "output_type": "stream",
     "text": [
      "\u001b[32mCourtesy Notice\u001b[0m: Pipenv found itself running within a virtual environment, so it will automatically use that environment, instead of creating its own for any project. You can set \u001b[1mPIPENV_IGNORE_VIRTUALENVS=1\u001b[0m to force pipenv to ignore that environment and create its own instead. You can set \u001b[1mPIPENV_VERBOSITY=-1\u001b[0m to suppress this warning.\n",
      "\u001b[32m\u001b[1mInstalling scikit-learn==1.0.2...\u001b[0m\n",
      "\u001b[K\u001b[1mAdding\u001b[0m \u001b[32m\u001b[1mscikit-learn\u001b[0m \u001b[1mto Pipfile's\u001b[0m \u001b[33m\u001b[1m[packages]\u001b[0m\u001b[1m...\u001b[0m\n",
      "\u001b[K\u001b[?25h✔ Installation Succeeded\u001b[0m \n",
      "\u001b[1mInstalling dependencies from Pipfile.lock (9791c1)...\u001b[0m\n",
      "To activate this project's virtualenv, run \u001b[33mpipenv shell\u001b[0m.\n",
      "Alternatively, run a command inside the virtualenv with \u001b[33mpipenv run\u001b[0m.\n",
      "\u001b[0m"
     ]
    }
   ],
   "source": [
    "!pipenv install scikit-learn==1.0.2"
   ]
  },
  {
   "cell_type": "markdown",
   "id": "46d21348",
   "metadata": {},
   "source": [
    "Ans2: 647a3b052e29c226ea602625ea40367519d09bc3b8e354609d0ad183b09791c1"
   ]
  },
  {
   "cell_type": "code",
   "execution_count": 18,
   "id": "2ead7382",
   "metadata": {},
   "outputs": [
    {
     "name": "stdout",
     "output_type": "stream",
     "text": [
      "--2022-10-10 14:23:11--  https://raw.githubusercontent.com/alexeygrigorev/mlbookcamp-code/master/course-zoomcamp/cohorts/2022/05-deployment/homework/model1.bin\n",
      "Resolving raw.githubusercontent.com (raw.githubusercontent.com)... 185.199.108.133, 185.199.109.133, 185.199.110.133, ...\n",
      "Connecting to raw.githubusercontent.com (raw.githubusercontent.com)|185.199.108.133|:443... connected.\n",
      "HTTP request sent, awaiting response... 200 OK\n",
      "Length: 889 [application/octet-stream]\n",
      "Saving to: ‘model1.bin.1’\n",
      "\n",
      "model1.bin.1        100%[===================>]     889  --.-KB/s    in 0s      \n",
      "\n",
      "2022-10-10 14:23:12 (43.5 MB/s) - ‘model1.bin.1’ saved [889/889]\n",
      "\n",
      "--2022-10-10 14:23:12--  https://raw.githubusercontent.com/alexeygrigorev/mlbookcamp-code/master/course-zoomcamp/cohorts/2022/05-deployment/homework/dv.bin\n",
      "Resolving raw.githubusercontent.com (raw.githubusercontent.com)... 185.199.110.133, 185.199.108.133, 185.199.109.133, ...\n",
      "Connecting to raw.githubusercontent.com (raw.githubusercontent.com)|185.199.110.133|:443... connected.\n",
      "HTTP request sent, awaiting response... 200 OK\n",
      "Length: 333 [application/octet-stream]\n",
      "Saving to: ‘dv.bin.1’\n",
      "\n",
      "dv.bin.1            100%[===================>]     333  --.-KB/s    in 0s      \n",
      "\n",
      "2022-10-10 14:23:13 (17.2 MB/s) - ‘dv.bin.1’ saved [333/333]\n",
      "\n"
     ]
    }
   ],
   "source": [
    "!PREFIX=https://raw.githubusercontent.com/alexeygrigorev/mlbookcamp-code/master/course-zoomcamp/cohorts/2022/05-deployment/homework\n",
    "!wget https://raw.githubusercontent.com/alexeygrigorev/mlbookcamp-code/master/course-zoomcamp/cohorts/2022/05-deployment/homework/model1.bin\n",
    "!wget https://raw.githubusercontent.com/alexeygrigorev/mlbookcamp-code/master/course-zoomcamp/cohorts/2022/05-deployment/homework/dv.bin"
   ]
  },
  {
   "cell_type": "markdown",
   "id": "1978cea6",
   "metadata": {},
   "source": [
    "Question 3: Probability of getting a credit card (Script)"
   ]
  },
  {
   "cell_type": "code",
   "execution_count": 24,
   "id": "a0793e73",
   "metadata": {},
   "outputs": [
    {
     "name": "stdout",
     "output_type": "stream",
     "text": [
      "0.16213414434326598\r\n"
     ]
    }
   ],
   "source": [
    "!python3 predict.py"
   ]
  },
  {
   "cell_type": "markdown",
   "id": "666c1504",
   "metadata": {},
   "source": [
    "Ans2: 0.16213414434326598"
   ]
  },
  {
   "cell_type": "markdown",
   "id": "6cdf871a",
   "metadata": {},
   "source": [
    "Question 4:  Probability of getting a credit card (Flask)"
   ]
  },
  {
   "cell_type": "code",
   "execution_count": 25,
   "id": "4ac7e001",
   "metadata": {},
   "outputs": [
    {
     "name": "stdout",
     "output_type": "stream",
     "text": [
      "Requirement already satisfied: requests in /home/lillian/workme/me/mlops_camp/mlops_camp/lib/python3.10/site-packages (2.28.1)\n",
      "Requirement already satisfied: flask in /home/lillian/workme/me/mlops_camp/mlops_camp/lib/python3.10/site-packages (2.2.2)\n",
      "Requirement already satisfied: gunicorn in /home/lillian/workme/me/mlops_camp/mlops_camp/lib/python3.10/site-packages (20.1.0)\n",
      "Requirement already satisfied: urllib3<1.27,>=1.21.1 in /home/lillian/workme/me/mlops_camp/mlops_camp/lib/python3.10/site-packages (from requests) (1.26.12)\n",
      "Requirement already satisfied: idna<4,>=2.5 in /home/lillian/workme/me/mlops_camp/mlops_camp/lib/python3.10/site-packages (from requests) (3.4)\n",
      "Requirement already satisfied: certifi>=2017.4.17 in /home/lillian/workme/me/mlops_camp/mlops_camp/lib/python3.10/site-packages (from requests) (2022.9.24)\n",
      "Requirement already satisfied: charset-normalizer<3,>=2 in /home/lillian/workme/me/mlops_camp/mlops_camp/lib/python3.10/site-packages (from requests) (2.1.1)\n",
      "Requirement already satisfied: Jinja2>=3.0 in /home/lillian/workme/me/mlops_camp/mlops_camp/lib/python3.10/site-packages (from flask) (3.1.2)\n",
      "Requirement already satisfied: itsdangerous>=2.0 in /home/lillian/workme/me/mlops_camp/mlops_camp/lib/python3.10/site-packages (from flask) (2.1.2)\n",
      "Requirement already satisfied: Werkzeug>=2.2.2 in /home/lillian/workme/me/mlops_camp/mlops_camp/lib/python3.10/site-packages (from flask) (2.2.2)\n",
      "Requirement already satisfied: click>=8.0 in /home/lillian/workme/me/mlops_camp/mlops_camp/lib/python3.10/site-packages (from flask) (8.1.3)\n",
      "Requirement already satisfied: setuptools>=3.0 in /home/lillian/workme/me/mlops_camp/mlops_camp/lib/python3.10/site-packages (from gunicorn) (59.6.0)\n",
      "Requirement already satisfied: MarkupSafe>=2.0 in /home/lillian/workme/me/mlops_camp/mlops_camp/lib/python3.10/site-packages (from Jinja2>=3.0->flask) (2.1.1)\n"
     ]
    }
   ],
   "source": [
    "!pip install requests flask gunicorn"
   ]
  },
  {
   "cell_type": "code",
   "execution_count": 41,
   "id": "8ae28257",
   "metadata": {},
   "outputs": [
    {
     "name": "stdout",
     "output_type": "stream",
     "text": [
      "Address already in use\r\n",
      "Port 9696 is in use by another program. Either identify and stop that program, or start the server with a different port.\r\n"
     ]
    }
   ],
   "source": [
    "!python3 model.py > /dev/null"
   ]
  },
  {
   "cell_type": "code",
   "execution_count": 42,
   "id": "194aaa4e",
   "metadata": {},
   "outputs": [
    {
     "data": {
      "text/plain": [
       "{'credit': True, 'credit_probability': 0.9282218018527452}"
      ]
     },
     "execution_count": 42,
     "metadata": {},
     "output_type": "execute_result"
    }
   ],
   "source": [
    "import requests\n",
    "url = 'http://127.0.0.1:9696/predict'\n",
    "client = {\"reports\": 0, \"share\": 0.245, \"expenditure\": 3.438, \"owner\": \"yes\"}\n",
    "requests.post(url, json=client).json()"
   ]
  },
  {
   "cell_type": "markdown",
   "id": "2f8d9641",
   "metadata": {},
   "source": [
    "Ans4: 0.9282218018527452"
   ]
  },
  {
   "cell_type": "markdown",
   "id": "29562821",
   "metadata": {},
   "source": [
    "Question 5:  Size of the base image"
   ]
  },
  {
   "cell_type": "code",
   "execution_count": 29,
   "id": "1d2b3877",
   "metadata": {},
   "outputs": [
    {
     "name": "stdout",
     "output_type": "stream",
     "text": [
      "3.9.12-slim: Pulling from svizor/zoomcamp-model\n",
      "\n",
      "\u001b[1Ba5fb9032: Pulling fs layer \n",
      "\u001b[1B81b69b9a: Pulling fs layer \n",
      "\u001b[1Ba0a62ab5: Pulling fs layer \n",
      "\u001b[1B28511179: Pulling fs layer \n",
      "\u001b[1B79bc1c47: Pulling fs layer \n",
      "\u001b[1Bc3f7336a: Pulling fs layer \n",
      "\u001b[1B56631b9d: Pull complete  994B/994B7MBB\u001b[6A\u001b[2K\u001b[6A\u001b[2K\u001b[6A\u001b[2K\u001b[7A\u001b[2K\u001b[5A\u001b[2K\u001b[6A\u001b[2K\u001b[5A\u001b[2K\u001b[5A\u001b[2K\u001b[7A\u001b[2K\u001b[5A\u001b[2K\u001b[7A\u001b[2K\u001b[5A\u001b[2K\u001b[7A\u001b[2K\u001b[5A\u001b[2K\u001b[7A\u001b[2K\u001b[7A\u001b[2K\u001b[7A\u001b[2K\u001b[5A\u001b[2K\u001b[5A\u001b[2K\u001b[5A\u001b[2K\u001b[4A\u001b[2K\u001b[7A\u001b[2K\u001b[5A\u001b[2K\u001b[5A\u001b[2K\u001b[7A\u001b[2K\u001b[5A\u001b[2K\u001b[7A\u001b[2K\u001b[5A\u001b[2K\u001b[7A\u001b[2K\u001b[5A\u001b[2K\u001b[5A\u001b[2K\u001b[5A\u001b[2K\u001b[7A\u001b[2K\u001b[5A\u001b[2K\u001b[7A\u001b[2K\u001b[5A\u001b[2K\u001b[7A\u001b[2K\u001b[5A\u001b[2K\u001b[7A\u001b[2K\u001b[5A\u001b[2K\u001b[5A\u001b[2K\u001b[7A\u001b[2K\u001b[5A\u001b[2K\u001b[7A\u001b[2K\u001b[7A\u001b[2K\u001b[5A\u001b[2K\u001b[7A\u001b[2K\u001b[5A\u001b[2K\u001b[3A\u001b[2K\u001b[7A\u001b[2K\u001b[3A\u001b[2K\u001b[3A\u001b[2K\u001b[7A\u001b[2K\u001b[5A\u001b[2K\u001b[3A\u001b[2K\u001b[7A\u001b[2K\u001b[3A\u001b[2K\u001b[3A\u001b[2K\u001b[3A\u001b[2K\u001b[3A\u001b[2K\u001b[7A\u001b[2K\u001b[5A\u001b[2K\u001b[3A\u001b[2K\u001b[5A\u001b[2K\u001b[3A\u001b[2K\u001b[5A\u001b[2K\u001b[3A\u001b[2K\u001b[5A\u001b[2K\u001b[3A\u001b[2K\u001b[7A\u001b[2K\u001b[3A\u001b[2K\u001b[5A\u001b[2K\u001b[3A\u001b[2K\u001b[5A\u001b[2K\u001b[3A\u001b[2K\u001b[3A\u001b[2K\u001b[3A\u001b[2K\u001b[5A\u001b[2K\u001b[3A\u001b[2K\u001b[3A\u001b[2K\u001b[5A\u001b[2K\u001b[7A\u001b[2K\u001b[7A\u001b[2K\u001b[7A\u001b[2K\u001b[7A\u001b[2K\u001b[7A\u001b[2K\u001b[7A\u001b[2K\u001b[7A\u001b[2K\u001b[7A\u001b[2K\u001b[7A\u001b[2K\u001b[7A\u001b[2K\u001b[7A\u001b[2K\u001b[7A\u001b[2K\u001b[2A\u001b[2K\u001b[1A\u001b[2K\u001b[7A\u001b[2K\u001b[7A\u001b[2K\u001b[7A\u001b[2K\u001b[7A\u001b[2K\u001b[7A\u001b[2K\u001b[7A\u001b[2K\u001b[7A\u001b[2K\u001b[7A\u001b[2K\u001b[7A\u001b[2K\u001b[7A\u001b[2K\u001b[7A\u001b[2K\u001b[7A\u001b[2K\u001b[7A\u001b[2K\u001b[7A\u001b[2K\u001b[7A\u001b[2K\u001b[7A\u001b[2K\u001b[7A\u001b[2K\u001b[7A\u001b[2K\u001b[7A\u001b[2K\u001b[7A\u001b[2K\u001b[7A\u001b[2K\u001b[6A\u001b[2K\u001b[5A\u001b[2K\u001b[5A\u001b[2K\u001b[5A\u001b[2K\u001b[3A\u001b[2K\u001b[3A\u001b[2K\u001b[3A\u001b[2K\u001b[2A\u001b[2KDigest: sha256:10445b40653d5ac17ede84db17f42ae8c4090b347a979372b8102174498b33b9\n",
      "Status: Downloaded newer image for svizor/zoomcamp-model:3.9.12-slim\n",
      "docker.io/svizor/zoomcamp-model:3.9.12-slim\n"
     ]
    }
   ],
   "source": [
    "!docker pull svizor/zoomcamp-model:3.9.12-slim"
   ]
  },
  {
   "cell_type": "code",
   "execution_count": 30,
   "id": "2db93e60",
   "metadata": {},
   "outputs": [
    {
     "name": "stdout",
     "output_type": "stream",
     "text": [
      "REPOSITORY              TAG           IMAGE ID       CREATED      SIZE\r\n",
      "svizor/zoomcamp-model   3.9.12-slim   571a6fdc554b   7 days ago   125MB\r\n"
     ]
    }
   ],
   "source": [
    "!docker image ls svizor/zoomcamp-model:3.9.12-slim "
   ]
  },
  {
   "cell_type": "markdown",
   "id": "b44e1378",
   "metadata": {},
   "source": [
    "Ans5: 125MB"
   ]
  },
  {
   "cell_type": "markdown",
   "id": "b8004b5d",
   "metadata": {},
   "source": [
    "Question 6:  Probability of getting a credit card (Docker)"
   ]
  },
  {
   "cell_type": "code",
   "execution_count": 37,
   "id": "912af0e8",
   "metadata": {},
   "outputs": [
    {
     "data": {
      "text/plain": [
       "{'credit': True, 'credit_probability': 0.9282218018527452}"
      ]
     },
     "execution_count": 37,
     "metadata": {},
     "output_type": "execute_result"
    }
   ],
   "source": [
    "import requests\n",
    "url = 'http://0.0.0.0:9696/predict'\n",
    "client = {\"reports\": 0, \"share\": 0.245, \"expenditure\": 3.438, \"owner\": \"yes\"}\n",
    "requests.post(url, json=client).json()"
   ]
  },
  {
   "cell_type": "markdown",
   "id": "8b23965d",
   "metadata": {},
   "source": [
    "Ans5: 0.9282218018527452"
   ]
  },
  {
   "cell_type": "code",
   "execution_count": null,
   "id": "87c14632",
   "metadata": {},
   "outputs": [],
   "source": []
  }
 ],
 "metadata": {
  "kernelspec": {
   "display_name": "Python 3 (ipykernel)",
   "language": "python",
   "name": "python3"
  },
  "language_info": {
   "codemirror_mode": {
    "name": "ipython",
    "version": 3
   },
   "file_extension": ".py",
   "mimetype": "text/x-python",
   "name": "python",
   "nbconvert_exporter": "python",
   "pygments_lexer": "ipython3",
   "version": "3.10.6"
  }
 },
 "nbformat": 4,
 "nbformat_minor": 5
}
